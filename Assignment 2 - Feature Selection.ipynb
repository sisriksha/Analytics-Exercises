{
 "cells": [
  {
   "cell_type": "markdown",
   "metadata": {},
   "source": [
    "### Feature Selection\n",
    "<hr>"
   ]
  },
  {
   "cell_type": "markdown",
   "metadata": {},
   "source": [
    "### Question 1"
   ]
  },
  {
   "cell_type": "markdown",
   "metadata": {},
   "source": [
    "#### In this exercise, we will generate simulated data, and will then use this data to perform best subset selection. \n",
    "#### a) Use the rnorm() function to generate a predictor X of length n = 100, as well as a noise vector ϵ of length n = 100. (Both X and ϵ follow the standard normal distribution. Use set.seed(100) and set.seed(200) in generating X and ϵ, respectively)\n"
   ]
  },
  {
   "cell_type": "code",
   "execution_count": 1,
   "metadata": {
    "collapsed": true
   },
   "outputs": [],
   "source": [
    "set.seed(100)\n",
    "X <- rnorm(100)"
   ]
  },
  {
   "cell_type": "code",
   "execution_count": 2,
   "metadata": {
    "collapsed": true
   },
   "outputs": [],
   "source": [
    "set.seed(200)\n",
    "e <- rnorm(100)"
   ]
  },
  {
   "cell_type": "markdown",
   "metadata": {},
   "source": [
    "<h4> b)  Generate a response vector Y of length n = 100 according to the model Y = $\\beta_0$ + $\\beta_1X$ + $\\beta_2X^2$ + $\\beta_3X^3$ + ϵ, where $\\beta_0$ = 3, $\\beta_1$ = 2, $\\beta_2$ = 1, $\\beta_3$ = 0.5 are constants. </h4>"
   ]
  },
  {
   "cell_type": "code",
   "execution_count": 3,
   "metadata": {},
   "outputs": [
    {
     "data": {
      "text/html": [
       "<table>\n",
       "<thead><tr><th scope=col>X</th><th scope=col>Y</th></tr></thead>\n",
       "<tbody>\n",
       "\t<tr><td>-0.50219235</td><td>2.269243   </td></tr>\n",
       "\t<tr><td> 0.13153117</td><td>3.507961   </td></tr>\n",
       "\t<tr><td>-0.07891709</td><td>3.280704   </td></tr>\n",
       "\t<tr><td> 0.88678481</td><td>6.466700   </td></tr>\n",
       "\t<tr><td> 0.11697127</td><td>3.308180   </td></tr>\n",
       "\t<tr><td> 0.31863009</td><td>3.640319   </td></tr>\n",
       "</tbody>\n",
       "</table>\n"
      ],
      "text/latex": [
       "\\begin{tabular}{r|ll}\n",
       " X & Y\\\\\n",
       "\\hline\n",
       "\t -0.50219235 & 2.269243   \\\\\n",
       "\t  0.13153117 & 3.507961   \\\\\n",
       "\t -0.07891709 & 3.280704   \\\\\n",
       "\t  0.88678481 & 6.466700   \\\\\n",
       "\t  0.11697127 & 3.308180   \\\\\n",
       "\t  0.31863009 & 3.640319   \\\\\n",
       "\\end{tabular}\n"
      ],
      "text/markdown": [
       "\n",
       "X | Y | \n",
       "|---|---|---|---|---|---|\n",
       "| -0.50219235 | 2.269243    | \n",
       "|  0.13153117 | 3.507961    | \n",
       "| -0.07891709 | 3.280704    | \n",
       "|  0.88678481 | 6.466700    | \n",
       "|  0.11697127 | 3.308180    | \n",
       "|  0.31863009 | 3.640319    | \n",
       "\n",
       "\n"
      ],
      "text/plain": [
       "  X           Y       \n",
       "1 -0.50219235 2.269243\n",
       "2  0.13153117 3.507961\n",
       "3 -0.07891709 3.280704\n",
       "4  0.88678481 6.466700\n",
       "5  0.11697127 3.308180\n",
       "6  0.31863009 3.640319"
      ]
     },
     "metadata": {},
     "output_type": "display_data"
    }
   ],
   "source": [
    "b0 = 3 \n",
    "b1 = 2\n",
    "b2 = 1\n",
    "b3 = 0.5\n",
    "Y <- b0 + b1*X + b2*(X^2) + b3*(X^3) + e\n",
    "dataset = data.frame(X=X, Y=Y)\n",
    "head(dataset)"
   ]
  },
  {
   "cell_type": "code",
   "execution_count": 4,
   "metadata": {},
   "outputs": [
    {
     "data": {
      "text/html": [
       "<ol class=list-inline>\n",
       "\t<li>100</li>\n",
       "\t<li>2</li>\n",
       "</ol>\n"
      ],
      "text/latex": [
       "\\begin{enumerate*}\n",
       "\\item 100\n",
       "\\item 2\n",
       "\\end{enumerate*}\n"
      ],
      "text/markdown": [
       "1. 100\n",
       "2. 2\n",
       "\n",
       "\n"
      ],
      "text/plain": [
       "[1] 100   2"
      ]
     },
     "metadata": {},
     "output_type": "display_data"
    }
   ],
   "source": [
    "dim(dataset)"
   ]
  },
  {
   "cell_type": "markdown",
   "metadata": {},
   "source": [
    "#### (c) Use the regsubsets() function to perform best subset selection in order to choose the best model containing the predictors $X$, $X_2$, . . . , $X_{10}$. What is the best model obtained according to Cp, BIC, and adjusted $R^2$? Show some plots to provide evidence for your answer, and report the coefficients of the best models obtained. Note that you will need to use the data.frame() function to create a single data set containing both X and Y.\n"
   ]
  },
  {
   "cell_type": "code",
   "execution_count": 5,
   "metadata": {},
   "outputs": [
    {
     "data": {
      "text/plain": [
       "Subset selection object\n",
       "Call: regsubsets.formula(Y ~ poly(X, 10, raw = T), data = dataset, \n",
       "    nvmax = 10)\n",
       "10 Variables  (and intercept)\n",
       "                       Forced in Forced out\n",
       "poly(X, 10, raw = T)1      FALSE      FALSE\n",
       "poly(X, 10, raw = T)2      FALSE      FALSE\n",
       "poly(X, 10, raw = T)3      FALSE      FALSE\n",
       "poly(X, 10, raw = T)4      FALSE      FALSE\n",
       "poly(X, 10, raw = T)5      FALSE      FALSE\n",
       "poly(X, 10, raw = T)6      FALSE      FALSE\n",
       "poly(X, 10, raw = T)7      FALSE      FALSE\n",
       "poly(X, 10, raw = T)8      FALSE      FALSE\n",
       "poly(X, 10, raw = T)9      FALSE      FALSE\n",
       "poly(X, 10, raw = T)10     FALSE      FALSE\n",
       "1 subsets of each size up to 10\n",
       "Selection Algorithm: exhaustive\n",
       "          poly(X, 10, raw = T)1 poly(X, 10, raw = T)2 poly(X, 10, raw = T)3\n",
       "1  ( 1 )  \" \"                   \" \"                   \"*\"                  \n",
       "2  ( 1 )  \"*\"                   \" \"                   \" \"                  \n",
       "3  ( 1 )  \"*\"                   \"*\"                   \"*\"                  \n",
       "4  ( 1 )  \"*\"                   \"*\"                   \"*\"                  \n",
       "5  ( 1 )  \"*\"                   \"*\"                   \"*\"                  \n",
       "6  ( 1 )  \"*\"                   \"*\"                   \"*\"                  \n",
       "7  ( 1 )  \"*\"                   \"*\"                   \"*\"                  \n",
       "8  ( 1 )  \"*\"                   \"*\"                   \" \"                  \n",
       "9  ( 1 )  \"*\"                   \"*\"                   \"*\"                  \n",
       "10  ( 1 ) \"*\"                   \"*\"                   \"*\"                  \n",
       "          poly(X, 10, raw = T)4 poly(X, 10, raw = T)5 poly(X, 10, raw = T)6\n",
       "1  ( 1 )  \" \"                   \" \"                   \" \"                  \n",
       "2  ( 1 )  \"*\"                   \" \"                   \" \"                  \n",
       "3  ( 1 )  \" \"                   \" \"                   \" \"                  \n",
       "4  ( 1 )  \" \"                   \"*\"                   \" \"                  \n",
       "5  ( 1 )  \" \"                   \"*\"                   \" \"                  \n",
       "6  ( 1 )  \"*\"                   \"*\"                   \"*\"                  \n",
       "7  ( 1 )  \"*\"                   \"*\"                   \"*\"                  \n",
       "8  ( 1 )  \" \"                   \"*\"                   \"*\"                  \n",
       "9  ( 1 )  \" \"                   \"*\"                   \"*\"                  \n",
       "10  ( 1 ) \"*\"                   \"*\"                   \"*\"                  \n",
       "          poly(X, 10, raw = T)7 poly(X, 10, raw = T)8 poly(X, 10, raw = T)9\n",
       "1  ( 1 )  \" \"                   \" \"                   \" \"                  \n",
       "2  ( 1 )  \" \"                   \" \"                   \" \"                  \n",
       "3  ( 1 )  \" \"                   \" \"                   \" \"                  \n",
       "4  ( 1 )  \" \"                   \" \"                   \" \"                  \n",
       "5  ( 1 )  \"*\"                   \" \"                   \" \"                  \n",
       "6  ( 1 )  \" \"                   \" \"                   \" \"                  \n",
       "7  ( 1 )  \" \"                   \"*\"                   \" \"                  \n",
       "8  ( 1 )  \"*\"                   \"*\"                   \"*\"                  \n",
       "9  ( 1 )  \"*\"                   \"*\"                   \"*\"                  \n",
       "10  ( 1 ) \"*\"                   \"*\"                   \"*\"                  \n",
       "          poly(X, 10, raw = T)10\n",
       "1  ( 1 )  \" \"                   \n",
       "2  ( 1 )  \" \"                   \n",
       "3  ( 1 )  \" \"                   \n",
       "4  ( 1 )  \" \"                   \n",
       "5  ( 1 )  \" \"                   \n",
       "6  ( 1 )  \" \"                   \n",
       "7  ( 1 )  \" \"                   \n",
       "8  ( 1 )  \"*\"                   \n",
       "9  ( 1 )  \"*\"                   \n",
       "10  ( 1 ) \"*\"                   "
      ]
     },
     "metadata": {},
     "output_type": "display_data"
    }
   ],
   "source": [
    "library(leaps)\n",
    "reg_full = regsubsets(Y ~ poly(X,10,raw=T), data= dataset, nvmax=10)\n",
    "reg_full_summary = summary(reg_full)\n",
    "reg_full_summary"
   ]
  },
  {
   "cell_type": "code",
   "execution_count": 6,
   "metadata": {},
   "outputs": [
    {
     "data": {
      "text/html": [
       "<ol class=list-inline>\n",
       "\t<li>'which'</li>\n",
       "\t<li>'rsq'</li>\n",
       "\t<li>'rss'</li>\n",
       "\t<li>'adjr2'</li>\n",
       "\t<li>'cp'</li>\n",
       "\t<li>'bic'</li>\n",
       "\t<li>'outmat'</li>\n",
       "\t<li>'obj'</li>\n",
       "</ol>\n"
      ],
      "text/latex": [
       "\\begin{enumerate*}\n",
       "\\item 'which'\n",
       "\\item 'rsq'\n",
       "\\item 'rss'\n",
       "\\item 'adjr2'\n",
       "\\item 'cp'\n",
       "\\item 'bic'\n",
       "\\item 'outmat'\n",
       "\\item 'obj'\n",
       "\\end{enumerate*}\n"
      ],
      "text/markdown": [
       "1. 'which'\n",
       "2. 'rsq'\n",
       "3. 'rss'\n",
       "4. 'adjr2'\n",
       "5. 'cp'\n",
       "6. 'bic'\n",
       "7. 'outmat'\n",
       "8. 'obj'\n",
       "\n",
       "\n"
      ],
      "text/plain": [
       "[1] \"which\"  \"rsq\"    \"rss\"    \"adjr2\"  \"cp\"     \"bic\"    \"outmat\" \"obj\"   "
      ]
     },
     "metadata": {},
     "output_type": "display_data"
    }
   ],
   "source": [
    "names(reg_full_summary)"
   ]
  },
  {
   "cell_type": "code",
   "execution_count": 7,
   "metadata": {},
   "outputs": [
    {
     "data": {
      "text/html": [
       "8"
      ],
      "text/latex": [
       "8"
      ],
      "text/markdown": [
       "8"
      ],
      "text/plain": [
       "[1] 8"
      ]
     },
     "metadata": {},
     "output_type": "display_data"
    }
   ],
   "source": [
    "which.max(reg_full_summary$adjr2)"
   ]
  },
  {
   "cell_type": "code",
   "execution_count": 8,
   "metadata": {},
   "outputs": [
    {
     "data": {
      "text/html": [
       "3"
      ],
      "text/latex": [
       "3"
      ],
      "text/markdown": [
       "3"
      ],
      "text/plain": [
       "[1] 3"
      ]
     },
     "metadata": {},
     "output_type": "display_data"
    }
   ],
   "source": [
    "which.min(reg_full_summary$cp)"
   ]
  },
  {
   "cell_type": "code",
   "execution_count": 9,
   "metadata": {},
   "outputs": [
    {
     "data": {
      "text/html": [
       "3"
      ],
      "text/latex": [
       "3"
      ],
      "text/markdown": [
       "3"
      ],
      "text/plain": [
       "[1] 3"
      ]
     },
     "metadata": {},
     "output_type": "display_data"
    }
   ],
   "source": [
    "which.min(reg_full_summary$bic)"
   ]
  },
  {
   "cell_type": "code",
   "execution_count": 10,
   "metadata": {},
   "outputs": [
    {
     "data": {
      "text/html": [
       "<dl class=dl-horizontal>\n",
       "\t<dt>(Intercept)</dt>\n",
       "\t\t<dd>2.99492973335757</dd>\n",
       "\t<dt>poly(X, 10, raw = T)1</dt>\n",
       "\t\t<dd>2.21182043665331</dd>\n",
       "\t<dt>poly(X, 10, raw = T)2</dt>\n",
       "\t\t<dd>1.03707185349448</dd>\n",
       "\t<dt>poly(X, 10, raw = T)3</dt>\n",
       "\t\t<dd>0.47153554304441</dd>\n",
       "</dl>\n"
      ],
      "text/latex": [
       "\\begin{description*}\n",
       "\\item[(Intercept)] 2.99492973335757\n",
       "\\item[poly(X, 10, raw = T)1] 2.21182043665331\n",
       "\\item[poly(X, 10, raw = T)2] 1.03707185349448\n",
       "\\item[poly(X, 10, raw = T)3] 0.47153554304441\n",
       "\\end{description*}\n"
      ],
      "text/markdown": [
       "(Intercept)\n",
       ":   2.99492973335757poly(X, 10, raw = T)1\n",
       ":   2.21182043665331poly(X, 10, raw = T)2\n",
       ":   1.03707185349448poly(X, 10, raw = T)3\n",
       ":   0.47153554304441\n",
       "\n"
      ],
      "text/plain": [
       "          (Intercept) poly(X, 10, raw = T)1 poly(X, 10, raw = T)2 \n",
       "            2.9949297             2.2118204             1.0370719 \n",
       "poly(X, 10, raw = T)3 \n",
       "            0.4715355 "
      ]
     },
     "metadata": {},
     "output_type": "display_data"
    }
   ],
   "source": [
    "coef(reg_full, 3)"
   ]
  },
  {
   "cell_type": "code",
   "execution_count": 11,
   "metadata": {},
   "outputs": [
    {
     "data": {
      "text/html": [
       "<dl class=dl-horizontal>\n",
       "\t<dt>(Intercept)</dt>\n",
       "\t\t<dd>2.84266065770888</dd>\n",
       "\t<dt>poly(X, 10, raw = T)1</dt>\n",
       "\t\t<dd>2.04476468357057</dd>\n",
       "\t<dt>poly(X, 10, raw = T)2</dt>\n",
       "\t\t<dd>1.73096466500059</dd>\n",
       "\t<dt>poly(X, 10, raw = T)5</dt>\n",
       "\t\t<dd>0.869787765363676</dd>\n",
       "\t<dt>poly(X, 10, raw = T)6</dt>\n",
       "\t\t<dd>-0.421692614230429</dd>\n",
       "\t<dt>poly(X, 10, raw = T)7</dt>\n",
       "\t\t<dd>-0.321575215848998</dd>\n",
       "\t<dt>poly(X, 10, raw = T)8</dt>\n",
       "\t\t<dd>0.156531745727562</dd>\n",
       "\t<dt>poly(X, 10, raw = T)9</dt>\n",
       "\t\t<dd>0.033243575048091</dd>\n",
       "\t<dt>poly(X, 10, raw = T)10</dt>\n",
       "\t\t<dd>-0.0154709718996338</dd>\n",
       "</dl>\n"
      ],
      "text/latex": [
       "\\begin{description*}\n",
       "\\item[(Intercept)] 2.84266065770888\n",
       "\\item[poly(X, 10, raw = T)1] 2.04476468357057\n",
       "\\item[poly(X, 10, raw = T)2] 1.73096466500059\n",
       "\\item[poly(X, 10, raw = T)5] 0.869787765363676\n",
       "\\item[poly(X, 10, raw = T)6] -0.421692614230429\n",
       "\\item[poly(X, 10, raw = T)7] -0.321575215848998\n",
       "\\item[poly(X, 10, raw = T)8] 0.156531745727562\n",
       "\\item[poly(X, 10, raw = T)9] 0.033243575048091\n",
       "\\item[poly(X, 10, raw = T)10] -0.0154709718996338\n",
       "\\end{description*}\n"
      ],
      "text/markdown": [
       "(Intercept)\n",
       ":   2.84266065770888poly(X, 10, raw = T)1\n",
       ":   2.04476468357057poly(X, 10, raw = T)2\n",
       ":   1.73096466500059poly(X, 10, raw = T)5\n",
       ":   0.869787765363676poly(X, 10, raw = T)6\n",
       ":   -0.421692614230429poly(X, 10, raw = T)7\n",
       ":   -0.321575215848998poly(X, 10, raw = T)8\n",
       ":   0.156531745727562poly(X, 10, raw = T)9\n",
       ":   0.033243575048091poly(X, 10, raw = T)10\n",
       ":   -0.0154709718996338\n",
       "\n"
      ],
      "text/plain": [
       "           (Intercept)  poly(X, 10, raw = T)1  poly(X, 10, raw = T)2 \n",
       "            2.84266066             2.04476468             1.73096467 \n",
       " poly(X, 10, raw = T)5  poly(X, 10, raw = T)6  poly(X, 10, raw = T)7 \n",
       "            0.86978777            -0.42169261            -0.32157522 \n",
       " poly(X, 10, raw = T)8  poly(X, 10, raw = T)9 poly(X, 10, raw = T)10 \n",
       "            0.15653175             0.03324358            -0.01547097 "
      ]
     },
     "metadata": {},
     "output_type": "display_data"
    }
   ],
   "source": [
    "coef(reg_full, 8)"
   ]
  },
  {
   "cell_type": "markdown",
   "metadata": {},
   "source": [
    "#### Answer:\n",
    "Best model according to Adjusted $R_2$ (includes 8 variables): <br>\n",
    "Y = 2.8427 + 2.0448$X_1$ + 1.8210$X_2$ + 0.8698$X_5$ - 0.4217$X_6$ - 0.3215$X_7$ + 0.1565$X_8$ + 0.0333$X_9$ - 0.0155$X_{10}$ <br>\n",
    "<br>\n",
    "Best model according to $C_p$ and $BIC$ (includes 3 variables): <br>\n",
    "Y = 2.9949 + 2.2118$X_1$ + 1.0371$X_2$ + 0.4715$X_3$ <br>\n",
    "<br> \n",
    "The evidence is shown by the plots below- <br>\n",
    "i) Adjusted $R_2$ vs Number of variables - "
   ]
  },
  {
   "cell_type": "code",
   "execution_count": 12,
   "metadata": {},
   "outputs": [
    {
     "data": {
      "image/png": "[encoded data removed]",
      "text/plain": [
       "plot without title"
      ]
     },
     "metadata": {},
     "output_type": "display_data"
    }
   ],
   "source": [
    "library(repr)\n",
    "# Change plot size to 4 x 4\n",
    "options(repr.plot.width=4, repr.plot.height=4)\n",
    "plot(reg_full_summary$adjr2, xlab =\"Number of variables\")"
   ]
  },
  {
   "cell_type": "markdown",
   "metadata": {},
   "source": [
    "ii)  $C_p$ vs Number of variables - "
   ]
  },
  {
   "cell_type": "code",
   "execution_count": 13,
   "metadata": {
    "scrolled": true
   },
   "outputs": [
    {
     "data": {
      "image/png": "[encoded data removed]",
      "text/plain": [
       "plot without title"
      ]
     },
     "metadata": {},
     "output_type": "display_data"
    }
   ],
   "source": [
    "plot(reg_full_summary$cp, xlab =\"Number of variables\")"
   ]
  },
  {
   "cell_type": "markdown",
   "metadata": {},
   "source": [
    "c) $BIC$ vs Number of variables - "
   ]
  },
  {
   "cell_type": "code",
   "execution_count": 14,
   "metadata": {},
   "outputs": [
    {
     "data": {
      "image/png": "[encoded data removed]",
      "text/plain": [
       "plot without title"
      ]
     },
     "metadata": {},
     "output_type": "display_data"
    }
   ],
   "source": [
    "plot(reg_full_summary$bic, xlab =\"Number of variables\")"
   ]
  },
  {
   "cell_type": "markdown",
   "metadata": {},
   "source": [
    "#### d) Repeat (c), using forward stepwise selection and also using backwards stepwise selection. How does your answer compare to the results in (c)? "
   ]
  },
  {
   "cell_type": "markdown",
   "metadata": {},
   "source": [
    "#### Forward Stepwise Selection"
   ]
  },
  {
   "cell_type": "code",
   "execution_count": 15,
   "metadata": {},
   "outputs": [
    {
     "data": {
      "text/plain": [
       "Subset selection object\n",
       "Call: regsubsets.formula(Y ~ poly(X, 10, raw = T), data = dataset, \n",
       "    nvmax = 10, method = \"forward\")\n",
       "10 Variables  (and intercept)\n",
       "                       Forced in Forced out\n",
       "poly(X, 10, raw = T)1      FALSE      FALSE\n",
       "poly(X, 10, raw = T)2      FALSE      FALSE\n",
       "poly(X, 10, raw = T)3      FALSE      FALSE\n",
       "poly(X, 10, raw = T)4      FALSE      FALSE\n",
       "poly(X, 10, raw = T)5      FALSE      FALSE\n",
       "poly(X, 10, raw = T)6      FALSE      FALSE\n",
       "poly(X, 10, raw = T)7      FALSE      FALSE\n",
       "poly(X, 10, raw = T)8      FALSE      FALSE\n",
       "poly(X, 10, raw = T)9      FALSE      FALSE\n",
       "poly(X, 10, raw = T)10     FALSE      FALSE\n",
       "1 subsets of each size up to 10\n",
       "Selection Algorithm: forward\n",
       "          poly(X, 10, raw = T)1 poly(X, 10, raw = T)2 poly(X, 10, raw = T)3\n",
       "1  ( 1 )  \" \"                   \" \"                   \"*\"                  \n",
       "2  ( 1 )  \" \"                   \"*\"                   \"*\"                  \n",
       "3  ( 1 )  \"*\"                   \"*\"                   \"*\"                  \n",
       "4  ( 1 )  \"*\"                   \"*\"                   \"*\"                  \n",
       "5  ( 1 )  \"*\"                   \"*\"                   \"*\"                  \n",
       "6  ( 1 )  \"*\"                   \"*\"                   \"*\"                  \n",
       "7  ( 1 )  \"*\"                   \"*\"                   \"*\"                  \n",
       "8  ( 1 )  \"*\"                   \"*\"                   \"*\"                  \n",
       "9  ( 1 )  \"*\"                   \"*\"                   \"*\"                  \n",
       "10  ( 1 ) \"*\"                   \"*\"                   \"*\"                  \n",
       "          poly(X, 10, raw = T)4 poly(X, 10, raw = T)5 poly(X, 10, raw = T)6\n",
       "1  ( 1 )  \" \"                   \" \"                   \" \"                  \n",
       "2  ( 1 )  \" \"                   \" \"                   \" \"                  \n",
       "3  ( 1 )  \" \"                   \" \"                   \" \"                  \n",
       "4  ( 1 )  \" \"                   \"*\"                   \" \"                  \n",
       "5  ( 1 )  \" \"                   \"*\"                   \" \"                  \n",
       "6  ( 1 )  \"*\"                   \"*\"                   \" \"                  \n",
       "7  ( 1 )  \"*\"                   \"*\"                   \"*\"                  \n",
       "8  ( 1 )  \"*\"                   \"*\"                   \"*\"                  \n",
       "9  ( 1 )  \"*\"                   \"*\"                   \"*\"                  \n",
       "10  ( 1 ) \"*\"                   \"*\"                   \"*\"                  \n",
       "          poly(X, 10, raw = T)7 poly(X, 10, raw = T)8 poly(X, 10, raw = T)9\n",
       "1  ( 1 )  \" \"                   \" \"                   \" \"                  \n",
       "2  ( 1 )  \" \"                   \" \"                   \" \"                  \n",
       "3  ( 1 )  \" \"                   \" \"                   \" \"                  \n",
       "4  ( 1 )  \" \"                   \" \"                   \" \"                  \n",
       "5  ( 1 )  \"*\"                   \" \"                   \" \"                  \n",
       "6  ( 1 )  \"*\"                   \" \"                   \" \"                  \n",
       "7  ( 1 )  \"*\"                   \" \"                   \" \"                  \n",
       "8  ( 1 )  \"*\"                   \" \"                   \" \"                  \n",
       "9  ( 1 )  \"*\"                   \" \"                   \"*\"                  \n",
       "10  ( 1 ) \"*\"                   \"*\"                   \"*\"                  \n",
       "          poly(X, 10, raw = T)10\n",
       "1  ( 1 )  \" \"                   \n",
       "2  ( 1 )  \" \"                   \n",
       "3  ( 1 )  \" \"                   \n",
       "4  ( 1 )  \" \"                   \n",
       "5  ( 1 )  \" \"                   \n",
       "6  ( 1 )  \" \"                   \n",
       "7  ( 1 )  \" \"                   \n",
       "8  ( 1 )  \"*\"                   \n",
       "9  ( 1 )  \"*\"                   \n",
       "10  ( 1 ) \"*\"                   "
      ]
     },
     "metadata": {},
     "output_type": "display_data"
    }
   ],
   "source": [
    "reg_fwd = regsubsets(Y ~ poly(X,10,raw=T), data= dataset, nvmax=10, method=\"forward\")\n",
    "reg_fwd_summary = summary(reg_fwd)\n",
    "reg_fwd_summary"
   ]
  },
  {
   "cell_type": "code",
   "execution_count": 16,
   "metadata": {},
   "outputs": [
    {
     "data": {
      "image/png": "[encoded data removed]",
      "text/plain": [
       "plot without title"
      ]
     },
     "metadata": {},
     "output_type": "display_data"
    }
   ],
   "source": [
    "plot(reg_fwd_summary$adjr2, xlab =\"Number of variables\")"
   ]
  },
  {
   "cell_type": "code",
   "execution_count": 17,
   "metadata": {},
   "outputs": [
    {
     "data": {
      "text/html": [
       "8"
      ],
      "text/latex": [
       "8"
      ],
      "text/markdown": [
       "8"
      ],
      "text/plain": [
       "[1] 8"
      ]
     },
     "metadata": {},
     "output_type": "display_data"
    }
   ],
   "source": [
    "which.max(reg_fwd_summary$adjr2)"
   ]
  },
  {
   "cell_type": "code",
   "execution_count": 18,
   "metadata": {},
   "outputs": [
    {
     "data": {
      "image/png": "[encoded data removed]",
      "text/plain": [
       "plot without title"
      ]
     },
     "metadata": {},
     "output_type": "display_data"
    }
   ],
   "source": [
    "plot(reg_fwd_summary$cp, xlab =\"Number of variables\")"
   ]
  },
  {
   "cell_type": "code",
   "execution_count": 19,
   "metadata": {},
   "outputs": [
    {
     "data": {
      "text/html": [
       "3"
      ],
      "text/latex": [
       "3"
      ],
      "text/markdown": [
       "3"
      ],
      "text/plain": [
       "[1] 3"
      ]
     },
     "metadata": {},
     "output_type": "display_data"
    }
   ],
   "source": [
    "which.min(reg_fwd_summary$cp)"
   ]
  },
  {
   "cell_type": "code",
   "execution_count": 20,
   "metadata": {},
   "outputs": [
    {
     "data": {
      "image/png": "[encoded data removed]",
      "text/plain": [
       "plot without title"
      ]
     },
     "metadata": {},
     "output_type": "display_data"
    }
   ],
   "source": [
    "plot(reg_fwd_summary$bic, xlab =\"Number of variables\")"
   ]
  },
  {
   "cell_type": "code",
   "execution_count": 21,
   "metadata": {},
   "outputs": [
    {
     "data": {
      "text/html": [
       "3"
      ],
      "text/latex": [
       "3"
      ],
      "text/markdown": [
       "3"
      ],
      "text/plain": [
       "[1] 3"
      ]
     },
     "metadata": {},
     "output_type": "display_data"
    }
   ],
   "source": [
    "which.min(reg_fwd_summary$bic)"
   ]
  },
  {
   "cell_type": "code",
   "execution_count": 22,
   "metadata": {},
   "outputs": [
    {
     "data": {
      "text/html": [
       "<dl class=dl-horizontal>\n",
       "\t<dt>(Intercept)</dt>\n",
       "\t\t<dd>2.81685671258057</dd>\n",
       "\t<dt>poly(X, 10, raw = T)1</dt>\n",
       "\t\t<dd>1.53881900195618</dd>\n",
       "\t<dt>poly(X, 10, raw = T)2</dt>\n",
       "\t\t<dd>2.14130955056521</dd>\n",
       "\t<dt>poly(X, 10, raw = T)3</dt>\n",
       "\t\t<dd>1.59435299953963</dd>\n",
       "\t<dt>poly(X, 10, raw = T)4</dt>\n",
       "\t\t<dd>-0.868708968374257</dd>\n",
       "\t<dt>poly(X, 10, raw = T)5</dt>\n",
       "\t\t<dd>-0.416389360688426</dd>\n",
       "\t<dt>poly(X, 10, raw = T)6</dt>\n",
       "\t\t<dd>0.177363157926695</dd>\n",
       "\t<dt>poly(X, 10, raw = T)7</dt>\n",
       "\t\t<dd>0.0428443580406542</dd>\n",
       "\t<dt>poly(X, 10, raw = T)10</dt>\n",
       "\t\t<dd>-0.0018169888137257</dd>\n",
       "</dl>\n"
      ],
      "text/latex": [
       "\\begin{description*}\n",
       "\\item[(Intercept)] 2.81685671258057\n",
       "\\item[poly(X, 10, raw = T)1] 1.53881900195618\n",
       "\\item[poly(X, 10, raw = T)2] 2.14130955056521\n",
       "\\item[poly(X, 10, raw = T)3] 1.59435299953963\n",
       "\\item[poly(X, 10, raw = T)4] -0.868708968374257\n",
       "\\item[poly(X, 10, raw = T)5] -0.416389360688426\n",
       "\\item[poly(X, 10, raw = T)6] 0.177363157926695\n",
       "\\item[poly(X, 10, raw = T)7] 0.0428443580406542\n",
       "\\item[poly(X, 10, raw = T)10] -0.0018169888137257\n",
       "\\end{description*}\n"
      ],
      "text/markdown": [
       "(Intercept)\n",
       ":   2.81685671258057poly(X, 10, raw = T)1\n",
       ":   1.53881900195618poly(X, 10, raw = T)2\n",
       ":   2.14130955056521poly(X, 10, raw = T)3\n",
       ":   1.59435299953963poly(X, 10, raw = T)4\n",
       ":   -0.868708968374257poly(X, 10, raw = T)5\n",
       ":   -0.416389360688426poly(X, 10, raw = T)6\n",
       ":   0.177363157926695poly(X, 10, raw = T)7\n",
       ":   0.0428443580406542poly(X, 10, raw = T)10\n",
       ":   -0.0018169888137257\n",
       "\n"
      ],
      "text/plain": [
       "           (Intercept)  poly(X, 10, raw = T)1  poly(X, 10, raw = T)2 \n",
       "           2.816856713            1.538819002            2.141309551 \n",
       " poly(X, 10, raw = T)3  poly(X, 10, raw = T)4  poly(X, 10, raw = T)5 \n",
       "           1.594353000           -0.868708968           -0.416389361 \n",
       " poly(X, 10, raw = T)6  poly(X, 10, raw = T)7 poly(X, 10, raw = T)10 \n",
       "           0.177363158            0.042844358           -0.001816989 "
      ]
     },
     "metadata": {},
     "output_type": "display_data"
    }
   ],
   "source": [
    "coef(reg_fwd, 8)"
   ]
  },
  {
   "cell_type": "code",
   "execution_count": 23,
   "metadata": {},
   "outputs": [
    {
     "data": {
      "text/html": [
       "<dl class=dl-horizontal>\n",
       "\t<dt>(Intercept)</dt>\n",
       "\t\t<dd>2.99492973335757</dd>\n",
       "\t<dt>poly(X, 10, raw = T)1</dt>\n",
       "\t\t<dd>2.21182043665331</dd>\n",
       "\t<dt>poly(X, 10, raw = T)2</dt>\n",
       "\t\t<dd>1.03707185349448</dd>\n",
       "\t<dt>poly(X, 10, raw = T)3</dt>\n",
       "\t\t<dd>0.47153554304441</dd>\n",
       "</dl>\n"
      ],
      "text/latex": [
       "\\begin{description*}\n",
       "\\item[(Intercept)] 2.99492973335757\n",
       "\\item[poly(X, 10, raw = T)1] 2.21182043665331\n",
       "\\item[poly(X, 10, raw = T)2] 1.03707185349448\n",
       "\\item[poly(X, 10, raw = T)3] 0.47153554304441\n",
       "\\end{description*}\n"
      ],
      "text/markdown": [
       "(Intercept)\n",
       ":   2.99492973335757poly(X, 10, raw = T)1\n",
       ":   2.21182043665331poly(X, 10, raw = T)2\n",
       ":   1.03707185349448poly(X, 10, raw = T)3\n",
       ":   0.47153554304441\n",
       "\n"
      ],
      "text/plain": [
       "          (Intercept) poly(X, 10, raw = T)1 poly(X, 10, raw = T)2 \n",
       "            2.9949297             2.2118204             1.0370719 \n",
       "poly(X, 10, raw = T)3 \n",
       "            0.4715355 "
      ]
     },
     "metadata": {},
     "output_type": "display_data"
    }
   ],
   "source": [
    "coef(reg_fwd, 3)"
   ]
  },
  {
   "cell_type": "markdown",
   "metadata": {},
   "source": [
    "#### Answer: \n",
    "\n",
    "For forward stepwise selection, Best model according to Adjusted $R_2$ (includes 8 variables): <br>\n",
    "Y = 2.8169 + 1.5388$X_1$ + 2.1413$X_2$ - 1.5943$X_3$ - 0.8687$X_4$ - 0.4164$X_5$ + 0.1774$X_6$ + 0.0428$X_7$ - 0.0018$X_{10}$\n",
    "<br>\n",
    "vs <br> \n",
    "Best model from Best subset selection: <br>\n",
    "Y = 2.8427 + 2.0448$X_1$ + 1.8210$X_2$ + 0.8698$X_5$ - 0.4217$X_6$ - 0.3215$X_7$ + 0.1565$X_8$ + 0.0333$X_9$ - 0.0155$X_{10}$ <br>\n",
    "<br>\n",
    "<br> For forward stepwise selection, Best model according to $C_p$ and $BIC$ (includes 3 variables) is the same as best subset selection: <br>\n",
    "Y = 2.9949 + 2.2118$X_1$ + 1.0371$X_2$ + 0.4715$X_3$ <br>\n",
    "<br> "
   ]
  },
  {
   "cell_type": "markdown",
   "metadata": {},
   "source": [
    "#### Backward Stepwise Selection"
   ]
  },
  {
   "cell_type": "code",
   "execution_count": 24,
   "metadata": {},
   "outputs": [
    {
     "data": {
      "text/plain": [
       "Subset selection object\n",
       "Call: regsubsets.formula(Y ~ poly(X, 10, raw = T), data = dataset, \n",
       "    nvmax = 10, method = \"backward\")\n",
       "10 Variables  (and intercept)\n",
       "                       Forced in Forced out\n",
       "poly(X, 10, raw = T)1      FALSE      FALSE\n",
       "poly(X, 10, raw = T)2      FALSE      FALSE\n",
       "poly(X, 10, raw = T)3      FALSE      FALSE\n",
       "poly(X, 10, raw = T)4      FALSE      FALSE\n",
       "poly(X, 10, raw = T)5      FALSE      FALSE\n",
       "poly(X, 10, raw = T)6      FALSE      FALSE\n",
       "poly(X, 10, raw = T)7      FALSE      FALSE\n",
       "poly(X, 10, raw = T)8      FALSE      FALSE\n",
       "poly(X, 10, raw = T)9      FALSE      FALSE\n",
       "poly(X, 10, raw = T)10     FALSE      FALSE\n",
       "1 subsets of each size up to 10\n",
       "Selection Algorithm: backward\n",
       "          poly(X, 10, raw = T)1 poly(X, 10, raw = T)2 poly(X, 10, raw = T)3\n",
       "1  ( 1 )  \"*\"                   \" \"                   \" \"                  \n",
       "2  ( 1 )  \"*\"                   \"*\"                   \" \"                  \n",
       "3  ( 1 )  \"*\"                   \"*\"                   \" \"                  \n",
       "4  ( 1 )  \"*\"                   \"*\"                   \" \"                  \n",
       "5  ( 1 )  \"*\"                   \"*\"                   \" \"                  \n",
       "6  ( 1 )  \"*\"                   \"*\"                   \" \"                  \n",
       "7  ( 1 )  \"*\"                   \"*\"                   \" \"                  \n",
       "8  ( 1 )  \"*\"                   \"*\"                   \" \"                  \n",
       "9  ( 1 )  \"*\"                   \"*\"                   \"*\"                  \n",
       "10  ( 1 ) \"*\"                   \"*\"                   \"*\"                  \n",
       "          poly(X, 10, raw = T)4 poly(X, 10, raw = T)5 poly(X, 10, raw = T)6\n",
       "1  ( 1 )  \" \"                   \" \"                   \" \"                  \n",
       "2  ( 1 )  \" \"                   \" \"                   \" \"                  \n",
       "3  ( 1 )  \" \"                   \"*\"                   \" \"                  \n",
       "4  ( 1 )  \" \"                   \"*\"                   \" \"                  \n",
       "5  ( 1 )  \" \"                   \"*\"                   \" \"                  \n",
       "6  ( 1 )  \" \"                   \"*\"                   \" \"                  \n",
       "7  ( 1 )  \" \"                   \"*\"                   \"*\"                  \n",
       "8  ( 1 )  \" \"                   \"*\"                   \"*\"                  \n",
       "9  ( 1 )  \" \"                   \"*\"                   \"*\"                  \n",
       "10  ( 1 ) \"*\"                   \"*\"                   \"*\"                  \n",
       "          poly(X, 10, raw = T)7 poly(X, 10, raw = T)8 poly(X, 10, raw = T)9\n",
       "1  ( 1 )  \" \"                   \" \"                   \" \"                  \n",
       "2  ( 1 )  \" \"                   \" \"                   \" \"                  \n",
       "3  ( 1 )  \" \"                   \" \"                   \" \"                  \n",
       "4  ( 1 )  \"*\"                   \" \"                   \" \"                  \n",
       "5  ( 1 )  \"*\"                   \" \"                   \"*\"                  \n",
       "6  ( 1 )  \"*\"                   \"*\"                   \"*\"                  \n",
       "7  ( 1 )  \"*\"                   \"*\"                   \"*\"                  \n",
       "8  ( 1 )  \"*\"                   \"*\"                   \"*\"                  \n",
       "9  ( 1 )  \"*\"                   \"*\"                   \"*\"                  \n",
       "10  ( 1 ) \"*\"                   \"*\"                   \"*\"                  \n",
       "          poly(X, 10, raw = T)10\n",
       "1  ( 1 )  \" \"                   \n",
       "2  ( 1 )  \" \"                   \n",
       "3  ( 1 )  \" \"                   \n",
       "4  ( 1 )  \" \"                   \n",
       "5  ( 1 )  \" \"                   \n",
       "6  ( 1 )  \" \"                   \n",
       "7  ( 1 )  \" \"                   \n",
       "8  ( 1 )  \"*\"                   \n",
       "9  ( 1 )  \"*\"                   \n",
       "10  ( 1 ) \"*\"                   "
      ]
     },
     "metadata": {},
     "output_type": "display_data"
    }
   ],
   "source": [
    "reg_bkd = regsubsets(Y ~ poly(X,10,raw=T), data= dataset, nvmax=10, method=\"backward\")\n",
    "reg_bkd_summary = summary(reg_bkd)\n",
    "reg_bkd_summary"
   ]
  },
  {
   "cell_type": "code",
   "execution_count": 25,
   "metadata": {},
   "outputs": [
    {
     "data": {
      "image/png": "[encoded data removed]",
      "text/plain": [
       "plot without title"
      ]
     },
     "metadata": {},
     "output_type": "display_data"
    }
   ],
   "source": [
    "plot(reg_bkd_summary$adjr2, xlab =\"Number of variables\")"
   ]
  },
  {
   "cell_type": "code",
   "execution_count": 26,
   "metadata": {},
   "outputs": [
    {
     "data": {
      "text/html": [
       "8"
      ],
      "text/latex": [
       "8"
      ],
      "text/markdown": [
       "8"
      ],
      "text/plain": [
       "[1] 8"
      ]
     },
     "metadata": {},
     "output_type": "display_data"
    }
   ],
   "source": [
    "which.max(reg_bkd_summary$adjr2)"
   ]
  },
  {
   "cell_type": "code",
   "execution_count": 27,
   "metadata": {},
   "outputs": [
    {
     "data": {
      "image/png": "[encoded data removed]",
      "text/plain": [
       "plot without title"
      ]
     },
     "metadata": {},
     "output_type": "display_data"
    }
   ],
   "source": [
    "plot(reg_bkd_summary$cp, xlab =\"Number of variables\")"
   ]
  },
  {
   "cell_type": "code",
   "execution_count": 28,
   "metadata": {},
   "outputs": [
    {
     "data": {
      "text/html": [
       "8"
      ],
      "text/latex": [
       "8"
      ],
      "text/markdown": [
       "8"
      ],
      "text/plain": [
       "[1] 8"
      ]
     },
     "metadata": {},
     "output_type": "display_data"
    }
   ],
   "source": [
    "which.min(reg_bkd_summary$cp)"
   ]
  },
  {
   "cell_type": "code",
   "execution_count": 29,
   "metadata": {},
   "outputs": [
    {
     "data": {
      "image/png": "[encoded data removed]",
      "text/plain": [
       "plot without title"
      ]
     },
     "metadata": {},
     "output_type": "display_data"
    }
   ],
   "source": [
    "plot(reg_bkd_summary$bic, xlab =\"Number of variables\")"
   ]
  },
  {
   "cell_type": "code",
   "execution_count": 30,
   "metadata": {},
   "outputs": [
    {
     "data": {
      "text/html": [
       "4"
      ],
      "text/latex": [
       "4"
      ],
      "text/markdown": [
       "4"
      ],
      "text/plain": [
       "[1] 4"
      ]
     },
     "metadata": {},
     "output_type": "display_data"
    }
   ],
   "source": [
    "which.min(reg_bkd_summary$bic)"
   ]
  },
  {
   "cell_type": "code",
   "execution_count": 31,
   "metadata": {},
   "outputs": [
    {
     "data": {
      "text/html": [
       "<dl class=dl-horizontal>\n",
       "\t<dt>(Intercept)</dt>\n",
       "\t\t<dd>2.84266065770889</dd>\n",
       "\t<dt>poly(X, 10, raw = T)1</dt>\n",
       "\t\t<dd>2.04476468357056</dd>\n",
       "\t<dt>poly(X, 10, raw = T)2</dt>\n",
       "\t\t<dd>1.73096466500058</dd>\n",
       "\t<dt>poly(X, 10, raw = T)5</dt>\n",
       "\t\t<dd>0.869787765363671</dd>\n",
       "\t<dt>poly(X, 10, raw = T)6</dt>\n",
       "\t\t<dd>-0.421692614230426</dd>\n",
       "\t<dt>poly(X, 10, raw = T)7</dt>\n",
       "\t\t<dd>-0.321575215848996</dd>\n",
       "\t<dt>poly(X, 10, raw = T)8</dt>\n",
       "\t\t<dd>0.156531745727562</dd>\n",
       "\t<dt>poly(X, 10, raw = T)9</dt>\n",
       "\t\t<dd>0.0332435750480907</dd>\n",
       "\t<dt>poly(X, 10, raw = T)10</dt>\n",
       "\t\t<dd>-0.0154709718996337</dd>\n",
       "</dl>\n"
      ],
      "text/latex": [
       "\\begin{description*}\n",
       "\\item[(Intercept)] 2.84266065770889\n",
       "\\item[poly(X, 10, raw = T)1] 2.04476468357056\n",
       "\\item[poly(X, 10, raw = T)2] 1.73096466500058\n",
       "\\item[poly(X, 10, raw = T)5] 0.869787765363671\n",
       "\\item[poly(X, 10, raw = T)6] -0.421692614230426\n",
       "\\item[poly(X, 10, raw = T)7] -0.321575215848996\n",
       "\\item[poly(X, 10, raw = T)8] 0.156531745727562\n",
       "\\item[poly(X, 10, raw = T)9] 0.0332435750480907\n",
       "\\item[poly(X, 10, raw = T)10] -0.0154709718996337\n",
       "\\end{description*}\n"
      ],
      "text/markdown": [
       "(Intercept)\n",
       ":   2.84266065770889poly(X, 10, raw = T)1\n",
       ":   2.04476468357056poly(X, 10, raw = T)2\n",
       ":   1.73096466500058poly(X, 10, raw = T)5\n",
       ":   0.869787765363671poly(X, 10, raw = T)6\n",
       ":   -0.421692614230426poly(X, 10, raw = T)7\n",
       ":   -0.321575215848996poly(X, 10, raw = T)8\n",
       ":   0.156531745727562poly(X, 10, raw = T)9\n",
       ":   0.0332435750480907poly(X, 10, raw = T)10\n",
       ":   -0.0154709718996337\n",
       "\n"
      ],
      "text/plain": [
       "           (Intercept)  poly(X, 10, raw = T)1  poly(X, 10, raw = T)2 \n",
       "            2.84266066             2.04476468             1.73096467 \n",
       " poly(X, 10, raw = T)5  poly(X, 10, raw = T)6  poly(X, 10, raw = T)7 \n",
       "            0.86978777            -0.42169261            -0.32157522 \n",
       " poly(X, 10, raw = T)8  poly(X, 10, raw = T)9 poly(X, 10, raw = T)10 \n",
       "            0.15653175             0.03324358            -0.01547097 "
      ]
     },
     "metadata": {},
     "output_type": "display_data"
    }
   ],
   "source": [
    "coef(reg_bkd, 8)"
   ]
  },
  {
   "cell_type": "code",
   "execution_count": 32,
   "metadata": {},
   "outputs": [
    {
     "data": {
      "text/html": [
       "<dl class=dl-horizontal>\n",
       "\t<dt>(Intercept)</dt>\n",
       "\t\t<dd>2.98253802001323</dd>\n",
       "\t<dt>poly(X, 10, raw = T)1</dt>\n",
       "\t\t<dd>2.51585615993458</dd>\n",
       "\t<dt>poly(X, 10, raw = T)2</dt>\n",
       "\t\t<dd>1.06439266565386</dd>\n",
       "\t<dt>poly(X, 10, raw = T)5</dt>\n",
       "\t\t<dd>0.17048062107553</dd>\n",
       "\t<dt>poly(X, 10, raw = T)7</dt>\n",
       "\t\t<dd>-0.0168772821654796</dd>\n",
       "</dl>\n"
      ],
      "text/latex": [
       "\\begin{description*}\n",
       "\\item[(Intercept)] 2.98253802001323\n",
       "\\item[poly(X, 10, raw = T)1] 2.51585615993458\n",
       "\\item[poly(X, 10, raw = T)2] 1.06439266565386\n",
       "\\item[poly(X, 10, raw = T)5] 0.17048062107553\n",
       "\\item[poly(X, 10, raw = T)7] -0.0168772821654796\n",
       "\\end{description*}\n"
      ],
      "text/markdown": [
       "(Intercept)\n",
       ":   2.98253802001323poly(X, 10, raw = T)1\n",
       ":   2.51585615993458poly(X, 10, raw = T)2\n",
       ":   1.06439266565386poly(X, 10, raw = T)5\n",
       ":   0.17048062107553poly(X, 10, raw = T)7\n",
       ":   -0.0168772821654796\n",
       "\n"
      ],
      "text/plain": [
       "          (Intercept) poly(X, 10, raw = T)1 poly(X, 10, raw = T)2 \n",
       "           2.98253802            2.51585616            1.06439267 \n",
       "poly(X, 10, raw = T)5 poly(X, 10, raw = T)7 \n",
       "           0.17048062           -0.01687728 "
      ]
     },
     "metadata": {},
     "output_type": "display_data"
    }
   ],
   "source": [
    "coef(reg_bkd, 4)"
   ]
  },
  {
   "cell_type": "markdown",
   "metadata": {},
   "source": [
    "#### Answer: \n",
    "\n",
    "For backward stepwise selection, Best model according to Adjusted $R_2$ (includes 8 variables) is the same as best subset selection: <br>\n",
    "Y = 2.8427 + 2.0448$X_1$ + 1.8210$X_2$ + 0.8698$X_5$ - 0.4217$X_6$ - 0.3215$X_7$ + 0.1565$X_8$ + 0.0333$X_9$ - 0.0155$X_{10}$ <br>\n",
    "<br>\n",
    "<br> For backward stepwise selection, Best model according to $C_p$ (includes 8 variables): <br>\n",
    "Y = 2.8427 + 2.0448$X_1$ + 1.8210$X_2$ + 0.8698$X_5$ - 0.4217$X_6$ - 0.3215$X_7$ + 0.1565$X_8$ + 0.0333$X_9$ - 0.0155$X_{10}$ <br>\n",
    "vs <br>\n",
    "Best model from Best subset selection $C_p$: <br>\n",
    "Y = 2.9949 + 2.2118$X_1$ + 1.0371$X_2$ + 0.4715$X_3$ <br>\n",
    "<br>\n",
    "<br>\n",
    "<br> For backward stepwise selection, Best model according to $BIC$ (includes 8 variables): <br>\n",
    "Y = 2.9825 + 2.5159$X_1$ + 1.0644$X_2$ + 0.1705$X_5$ - 0.0169$X_7$ <br>\n",
    "vs <br>\n",
    "Best model from Best subset selection $BIC$: <br>\n",
    "Y = 2.9949 + 2.2118$X_1$ + 1.0371$X_2$ + 0.4715$X_3$ <br>\n",
    "\n",
    "<hr>"
   ]
  },
  {
   "cell_type": "markdown",
   "metadata": {},
   "source": [
    "### Question 2"
   ]
  },
  {
   "cell_type": "markdown",
   "metadata": {},
   "source": [
    "#### In this exercise, we will perform subset selection using data set Boston. Note that the response variable is medv.\n"
   ]
  },
  {
   "cell_type": "code",
   "execution_count": 33,
   "metadata": {},
   "outputs": [
    {
     "data": {
      "text/html": [
       "<table>\n",
       "<thead><tr><th scope=col>crim</th><th scope=col>zn</th><th scope=col>indus</th><th scope=col>chas</th><th scope=col>nox</th><th scope=col>rm</th><th scope=col>age</th><th scope=col>dis</th><th scope=col>rad</th><th scope=col>tax</th><th scope=col>ptratio</th><th scope=col>black</th><th scope=col>lstat</th><th scope=col>medv</th></tr></thead>\n",
       "<tbody>\n",
       "\t<tr><td>0.00632</td><td>18     </td><td>2.31   </td><td>0      </td><td>0.538  </td><td>6.575  </td><td>65.2   </td><td>4.0900 </td><td>1      </td><td>296    </td><td>15.3   </td><td>396.90 </td><td>4.98   </td><td>24.0   </td></tr>\n",
       "\t<tr><td>0.02731</td><td> 0     </td><td>7.07   </td><td>0      </td><td>0.469  </td><td>6.421  </td><td>78.9   </td><td>4.9671 </td><td>2      </td><td>242    </td><td>17.8   </td><td>396.90 </td><td>9.14   </td><td>21.6   </td></tr>\n",
       "\t<tr><td>0.02729</td><td> 0     </td><td>7.07   </td><td>0      </td><td>0.469  </td><td>7.185  </td><td>61.1   </td><td>4.9671 </td><td>2      </td><td>242    </td><td>17.8   </td><td>392.83 </td><td>4.03   </td><td>34.7   </td></tr>\n",
       "\t<tr><td>0.03237</td><td> 0     </td><td>2.18   </td><td>0      </td><td>0.458  </td><td>6.998  </td><td>45.8   </td><td>6.0622 </td><td>3      </td><td>222    </td><td>18.7   </td><td>394.63 </td><td>2.94   </td><td>33.4   </td></tr>\n",
       "\t<tr><td>0.06905</td><td> 0     </td><td>2.18   </td><td>0      </td><td>0.458  </td><td>7.147  </td><td>54.2   </td><td>6.0622 </td><td>3      </td><td>222    </td><td>18.7   </td><td>396.90 </td><td>5.33   </td><td>36.2   </td></tr>\n",
       "\t<tr><td>0.02985</td><td> 0     </td><td>2.18   </td><td>0      </td><td>0.458  </td><td>6.430  </td><td>58.7   </td><td>6.0622 </td><td>3      </td><td>222    </td><td>18.7   </td><td>394.12 </td><td>5.21   </td><td>28.7   </td></tr>\n",
       "</tbody>\n",
       "</table>\n"
      ],
      "text/latex": [
       "\\begin{tabular}{r|llllllllllllll}\n",
       " crim & zn & indus & chas & nox & rm & age & dis & rad & tax & ptratio & black & lstat & medv\\\\\n",
       "\\hline\n",
       "\t 0.00632 & 18      & 2.31    & 0       & 0.538   & 6.575   & 65.2    & 4.0900  & 1       & 296     & 15.3    & 396.90  & 4.98    & 24.0   \\\\\n",
       "\t 0.02731 &  0      & 7.07    & 0       & 0.469   & 6.421   & 78.9    & 4.9671  & 2       & 242     & 17.8    & 396.90  & 9.14    & 21.6   \\\\\n",
       "\t 0.02729 &  0      & 7.07    & 0       & 0.469   & 7.185   & 61.1    & 4.9671  & 2       & 242     & 17.8    & 392.83  & 4.03    & 34.7   \\\\\n",
       "\t 0.03237 &  0      & 2.18    & 0       & 0.458   & 6.998   & 45.8    & 6.0622  & 3       & 222     & 18.7    & 394.63  & 2.94    & 33.4   \\\\\n",
       "\t 0.06905 &  0      & 2.18    & 0       & 0.458   & 7.147   & 54.2    & 6.0622  & 3       & 222     & 18.7    & 396.90  & 5.33    & 36.2   \\\\\n",
       "\t 0.02985 &  0      & 2.18    & 0       & 0.458   & 6.430   & 58.7    & 6.0622  & 3       & 222     & 18.7    & 394.12  & 5.21    & 28.7   \\\\\n",
       "\\end{tabular}\n"
      ],
      "text/markdown": [
       "\n",
       "crim | zn | indus | chas | nox | rm | age | dis | rad | tax | ptratio | black | lstat | medv | \n",
       "|---|---|---|---|---|---|\n",
       "| 0.00632 | 18      | 2.31    | 0       | 0.538   | 6.575   | 65.2    | 4.0900  | 1       | 296     | 15.3    | 396.90  | 4.98    | 24.0    | \n",
       "| 0.02731 |  0      | 7.07    | 0       | 0.469   | 6.421   | 78.9    | 4.9671  | 2       | 242     | 17.8    | 396.90  | 9.14    | 21.6    | \n",
       "| 0.02729 |  0      | 7.07    | 0       | 0.469   | 7.185   | 61.1    | 4.9671  | 2       | 242     | 17.8    | 392.83  | 4.03    | 34.7    | \n",
       "| 0.03237 |  0      | 2.18    | 0       | 0.458   | 6.998   | 45.8    | 6.0622  | 3       | 222     | 18.7    | 394.63  | 2.94    | 33.4    | \n",
       "| 0.06905 |  0      | 2.18    | 0       | 0.458   | 7.147   | 54.2    | 6.0622  | 3       | 222     | 18.7    | 396.90  | 5.33    | 36.2    | \n",
       "| 0.02985 |  0      | 2.18    | 0       | 0.458   | 6.430   | 58.7    | 6.0622  | 3       | 222     | 18.7    | 394.12  | 5.21    | 28.7    | \n",
       "\n",
       "\n"
      ],
      "text/plain": [
       "  crim    zn indus chas nox   rm    age  dis    rad tax ptratio black  lstat\n",
       "1 0.00632 18 2.31  0    0.538 6.575 65.2 4.0900 1   296 15.3    396.90 4.98 \n",
       "2 0.02731  0 7.07  0    0.469 6.421 78.9 4.9671 2   242 17.8    396.90 9.14 \n",
       "3 0.02729  0 7.07  0    0.469 7.185 61.1 4.9671 2   242 17.8    392.83 4.03 \n",
       "4 0.03237  0 2.18  0    0.458 6.998 45.8 6.0622 3   222 18.7    394.63 2.94 \n",
       "5 0.06905  0 2.18  0    0.458 7.147 54.2 6.0622 3   222 18.7    396.90 5.33 \n",
       "6 0.02985  0 2.18  0    0.458 6.430 58.7 6.0622 3   222 18.7    394.12 5.21 \n",
       "  medv\n",
       "1 24.0\n",
       "2 21.6\n",
       "3 34.7\n",
       "4 33.4\n",
       "5 36.2\n",
       "6 28.7"
      ]
     },
     "metadata": {},
     "output_type": "display_data"
    }
   ],
   "source": [
    "library(MASS)\n",
    "data(Boston)\n",
    "head(Boston)"
   ]
  },
  {
   "cell_type": "markdown",
   "metadata": {},
   "source": [
    "#### a) Perform best subset selection with three predictor. What are the best three predictors?"
   ]
  },
  {
   "cell_type": "code",
   "execution_count": 34,
   "metadata": {},
   "outputs": [
    {
     "data": {
      "text/html": [
       "<dl class=dl-horizontal>\n",
       "\t<dt>(Intercept)</dt>\n",
       "\t\t<dd>18.5671115053951</dd>\n",
       "\t<dt>rm</dt>\n",
       "\t\t<dd>4.51542094385543</dd>\n",
       "\t<dt>ptratio</dt>\n",
       "\t\t<dd>-0.930722555270617</dd>\n",
       "\t<dt>lstat</dt>\n",
       "\t\t<dd>-0.571805687872477</dd>\n",
       "</dl>\n"
      ],
      "text/latex": [
       "\\begin{description*}\n",
       "\\item[(Intercept)] 18.5671115053951\n",
       "\\item[rm] 4.51542094385543\n",
       "\\item[ptratio] -0.930722555270617\n",
       "\\item[lstat] -0.571805687872477\n",
       "\\end{description*}\n"
      ],
      "text/markdown": [
       "(Intercept)\n",
       ":   18.5671115053951rm\n",
       ":   4.51542094385543ptratio\n",
       ":   -0.930722555270617lstat\n",
       ":   -0.571805687872477\n",
       "\n"
      ],
      "text/plain": [
       "(Intercept)          rm     ptratio       lstat \n",
       " 18.5671115   4.5154209  -0.9307226  -0.5718057 "
      ]
     },
     "metadata": {},
     "output_type": "display_data"
    }
   ],
   "source": [
    "reg_full = regsubsets(medv~., data=Boston, nvmax=13)\n",
    "coef(reg_full,3)"
   ]
  },
  {
   "cell_type": "markdown",
   "metadata": {},
   "source": [
    "#### Answer: \n",
    "3 best predictors are rm, ptratio, lstat."
   ]
  },
  {
   "cell_type": "markdown",
   "metadata": {},
   "source": [
    "#### b) Perform linear regression with the three best predictors. Is your model significant? How much variability can be explained by this linear model.\n"
   ]
  },
  {
   "cell_type": "code",
   "execution_count": 35,
   "metadata": {},
   "outputs": [
    {
     "data": {
      "text/plain": [
       "\n",
       "Call:\n",
       "lm(formula = medv ~ rm + ptratio + lstat, data = Boston)\n",
       "\n",
       "Residuals:\n",
       "     Min       1Q   Median       3Q      Max \n",
       "-14.4871  -3.1047  -0.7976   1.8129  29.6559 \n",
       "\n",
       "Coefficients:\n",
       "            Estimate Std. Error t value Pr(>|t|)    \n",
       "(Intercept) 18.56711    3.91320   4.745 2.73e-06 ***\n",
       "rm           4.51542    0.42587  10.603  < 2e-16 ***\n",
       "ptratio     -0.93072    0.11765  -7.911 1.64e-14 ***\n",
       "lstat       -0.57181    0.04223 -13.540  < 2e-16 ***\n",
       "---\n",
       "Signif. codes:  0 '***' 0.001 '**' 0.01 '*' 0.05 '.' 0.1 ' ' 1\n",
       "\n",
       "Residual standard error: 5.229 on 502 degrees of freedom\n",
       "Multiple R-squared:  0.6786,\tAdjusted R-squared:  0.6767 \n",
       "F-statistic: 353.3 on 3 and 502 DF,  p-value: < 2.2e-16\n"
      ]
     },
     "metadata": {},
     "output_type": "display_data"
    }
   ],
   "source": [
    "lm_fit = lm(medv ~ rm + ptratio + lstat, data=Boston)\n",
    "summary(lm_fit)"
   ]
  },
  {
   "cell_type": "markdown",
   "metadata": {},
   "source": [
    "#### Answer: \n",
    "The model is pretty significant, because the p-value is very close to zero (< 2.2e-16). <br>\n",
    "67.86% of the variation can be expressed by the model, by looking at the $R^2$ value. "
   ]
  },
  {
   "cell_type": "markdown",
   "metadata": {},
   "source": [
    "#### c) Find the models with seven predictors. Perform forward and backward stepwise subset selection. Are they the same as the best subset selection? If different, does the stepwise subset selection lose much in terms of proportion of variability explained by the model?"
   ]
  },
  {
   "cell_type": "code",
   "execution_count": 36,
   "metadata": {
    "collapsed": true
   },
   "outputs": [],
   "source": [
    "reg_fwd = regsubsets(medv~., data=Boston, method=\"forward\", nvmax = 13)\n",
    "reg_bkd = regsubsets(medv~., data=Boston, method=\"backward\", nvmax = 13)\n",
    "reg_full_summary = summary(reg_full)\n",
    "reg_fwd_summary = summary(reg_fwd)\n",
    "reg_bkd_summary = summary(reg_bkd)"
   ]
  },
  {
   "cell_type": "code",
   "execution_count": 37,
   "metadata": {},
   "outputs": [
    {
     "data": {
      "text/html": [
       "<dl class=dl-horizontal>\n",
       "\t<dt>(Intercept)</dt>\n",
       "\t\t<dd>30.4119607207551</dd>\n",
       "\t<dt>chas</dt>\n",
       "\t\t<dd>3.05194425096506</dd>\n",
       "\t<dt>nox</dt>\n",
       "\t\t<dd>-16.6770639173895</dd>\n",
       "\t<dt>rm</dt>\n",
       "\t\t<dd>4.2943691374879</dd>\n",
       "\t<dt>dis</dt>\n",
       "\t\t<dd>-1.12347206191512</dd>\n",
       "\t<dt>ptratio</dt>\n",
       "\t\t<dd>-0.973694912117152</dd>\n",
       "\t<dt>black</dt>\n",
       "\t\t<dd>0.00897795473730026</dd>\n",
       "\t<dt>lstat</dt>\n",
       "\t\t<dd>-0.537153086183022</dd>\n",
       "</dl>\n"
      ],
      "text/latex": [
       "\\begin{description*}\n",
       "\\item[(Intercept)] 30.4119607207551\n",
       "\\item[chas] 3.05194425096506\n",
       "\\item[nox] -16.6770639173895\n",
       "\\item[rm] 4.2943691374879\n",
       "\\item[dis] -1.12347206191512\n",
       "\\item[ptratio] -0.973694912117152\n",
       "\\item[black] 0.00897795473730026\n",
       "\\item[lstat] -0.537153086183022\n",
       "\\end{description*}\n"
      ],
      "text/markdown": [
       "(Intercept)\n",
       ":   30.4119607207551chas\n",
       ":   3.05194425096506nox\n",
       ":   -16.6770639173895rm\n",
       ":   4.2943691374879dis\n",
       ":   -1.12347206191512ptratio\n",
       ":   -0.973694912117152black\n",
       ":   0.00897795473730026lstat\n",
       ":   -0.537153086183022\n",
       "\n"
      ],
      "text/plain": [
       "  (Intercept)          chas           nox            rm           dis \n",
       " 30.411960721   3.051944251 -16.677063917   4.294369137  -1.123472062 \n",
       "      ptratio         black         lstat \n",
       " -0.973694912   0.008977955  -0.537153086 "
      ]
     },
     "metadata": {},
     "output_type": "display_data"
    }
   ],
   "source": [
    "coef(reg_full, 7)"
   ]
  },
  {
   "cell_type": "code",
   "execution_count": 38,
   "metadata": {},
   "outputs": [
    {
     "data": {
      "text/html": [
       "<dl class=dl-horizontal>\n",
       "\t<dt>(Intercept)</dt>\n",
       "\t\t<dd>30.4119607207551</dd>\n",
       "\t<dt>chas</dt>\n",
       "\t\t<dd>3.05194425096505</dd>\n",
       "\t<dt>nox</dt>\n",
       "\t\t<dd>-16.6770639173895</dd>\n",
       "\t<dt>rm</dt>\n",
       "\t\t<dd>4.29436913748791</dd>\n",
       "\t<dt>dis</dt>\n",
       "\t\t<dd>-1.12347206191512</dd>\n",
       "\t<dt>ptratio</dt>\n",
       "\t\t<dd>-0.973694912117154</dd>\n",
       "\t<dt>black</dt>\n",
       "\t\t<dd>0.00897795473730024</dd>\n",
       "\t<dt>lstat</dt>\n",
       "\t\t<dd>-0.53715308618302</dd>\n",
       "</dl>\n"
      ],
      "text/latex": [
       "\\begin{description*}\n",
       "\\item[(Intercept)] 30.4119607207551\n",
       "\\item[chas] 3.05194425096505\n",
       "\\item[nox] -16.6770639173895\n",
       "\\item[rm] 4.29436913748791\n",
       "\\item[dis] -1.12347206191512\n",
       "\\item[ptratio] -0.973694912117154\n",
       "\\item[black] 0.00897795473730024\n",
       "\\item[lstat] -0.53715308618302\n",
       "\\end{description*}\n"
      ],
      "text/markdown": [
       "(Intercept)\n",
       ":   30.4119607207551chas\n",
       ":   3.05194425096505nox\n",
       ":   -16.6770639173895rm\n",
       ":   4.29436913748791dis\n",
       ":   -1.12347206191512ptratio\n",
       ":   -0.973694912117154black\n",
       ":   0.00897795473730024lstat\n",
       ":   -0.53715308618302\n",
       "\n"
      ],
      "text/plain": [
       "  (Intercept)          chas           nox            rm           dis \n",
       " 30.411960721   3.051944251 -16.677063917   4.294369137  -1.123472062 \n",
       "      ptratio         black         lstat \n",
       " -0.973694912   0.008977955  -0.537153086 "
      ]
     },
     "metadata": {},
     "output_type": "display_data"
    }
   ],
   "source": [
    "coef(reg_fwd, 7)"
   ]
  },
  {
   "cell_type": "code",
   "execution_count": 39,
   "metadata": {},
   "outputs": [
    {
     "data": {
      "text/html": [
       "<dl class=dl-horizontal>\n",
       "\t<dt>(Intercept)</dt>\n",
       "\t\t<dd>34.5901522564923</dd>\n",
       "\t<dt>nox</dt>\n",
       "\t\t<dd>-19.132370495965</dd>\n",
       "\t<dt>rm</dt>\n",
       "\t\t<dd>4.1879235639781</dd>\n",
       "\t<dt>dis</dt>\n",
       "\t\t<dd>-1.17413872854926</dd>\n",
       "\t<dt>rad</dt>\n",
       "\t\t<dd>0.0910378852662249</dd>\n",
       "\t<dt>ptratio</dt>\n",
       "\t\t<dd>-1.14412904007555</dd>\n",
       "\t<dt>black</dt>\n",
       "\t\t<dd>0.0112033318300951</dd>\n",
       "\t<dt>lstat</dt>\n",
       "\t\t<dd>-0.557822218963572</dd>\n",
       "</dl>\n"
      ],
      "text/latex": [
       "\\begin{description*}\n",
       "\\item[(Intercept)] 34.5901522564923\n",
       "\\item[nox] -19.132370495965\n",
       "\\item[rm] 4.1879235639781\n",
       "\\item[dis] -1.17413872854926\n",
       "\\item[rad] 0.0910378852662249\n",
       "\\item[ptratio] -1.14412904007555\n",
       "\\item[black] 0.0112033318300951\n",
       "\\item[lstat] -0.557822218963572\n",
       "\\end{description*}\n"
      ],
      "text/markdown": [
       "(Intercept)\n",
       ":   34.5901522564923nox\n",
       ":   -19.132370495965rm\n",
       ":   4.1879235639781dis\n",
       ":   -1.17413872854926rad\n",
       ":   0.0910378852662249ptratio\n",
       ":   -1.14412904007555black\n",
       ":   0.0112033318300951lstat\n",
       ":   -0.557822218963572\n",
       "\n"
      ],
      "text/plain": [
       " (Intercept)          nox           rm          dis          rad      ptratio \n",
       " 34.59015226 -19.13237050   4.18792356  -1.17413873   0.09103789  -1.14412904 \n",
       "       black        lstat \n",
       "  0.01120333  -0.55782222 "
      ]
     },
     "metadata": {},
     "output_type": "display_data"
    }
   ],
   "source": [
    "coef(reg_bkd, 7)"
   ]
  },
  {
   "cell_type": "code",
   "execution_count": 40,
   "metadata": {},
   "outputs": [
    {
     "data": {
      "text/html": [
       "0.72216140252771"
      ],
      "text/latex": [
       "0.72216140252771"
      ],
      "text/markdown": [
       "0.72216140252771"
      ],
      "text/plain": [
       "[1] 0.7221614"
      ]
     },
     "metadata": {},
     "output_type": "display_data"
    }
   ],
   "source": [
    "reg_full_summary$rsq[7]"
   ]
  },
  {
   "cell_type": "code",
   "execution_count": 41,
   "metadata": {},
   "outputs": [
    {
     "data": {
      "text/html": [
       "0.718739584634303"
      ],
      "text/latex": [
       "0.718739584634303"
      ],
      "text/markdown": [
       "0.718739584634303"
      ],
      "text/plain": [
       "[1] 0.7187396"
      ]
     },
     "metadata": {},
     "output_type": "display_data"
    }
   ],
   "source": [
    "reg_bkd_summary$rsq[7]"
   ]
  },
  {
   "cell_type": "code",
   "execution_count": 42,
   "metadata": {},
   "outputs": [
    {
     "data": {
      "text/html": [
       "0.722161402527711"
      ],
      "text/latex": [
       "0.722161402527711"
      ],
      "text/markdown": [
       "0.722161402527711"
      ],
      "text/plain": [
       "[1] 0.7221614"
      ]
     },
     "metadata": {},
     "output_type": "display_data"
    }
   ],
   "source": [
    "reg_fwd_summary$rsq[7]"
   ]
  },
  {
   "cell_type": "markdown",
   "metadata": {},
   "source": [
    "#### Answer:\n",
    "\n",
    "For 7 predictors, <br>\n",
    "The forward stepwise subset selected model is *almost* equal to the best subset selected model.  <br>\n",
    "The backward stepwise subset selection differs from the other models. <br> \n",
    "The proportion of variability explained by best subset and forward stepwise subset is 72.22 %, compared to 71.87% for backward stepwise subset. Therefore, a minor loss of 0.35% is incurred. \n",
    "<br>\n",
    "<br>\n",
    "<br>\n"
   ]
  }
 ],
 "metadata": {
  "kernelspec": {
   "display_name": "R",
   "language": "R",
   "name": "ir"
  },
  "language_info": {
   "codemirror_mode": "r",
   "file_extension": ".r",
   "mimetype": "text/x-r-source",
   "name": "R",
   "pygments_lexer": "r",
   "version": "3.4.2"
  }
 },
 "nbformat": 4,
 "nbformat_minor": 2
}
