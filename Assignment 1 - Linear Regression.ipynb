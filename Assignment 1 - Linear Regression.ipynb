{
 "cells": [
  {
   "cell_type": "markdown",
   "metadata": {},
   "source": [
    "<h2> Linear Regression </h2>\n",
    "<hr>"
   ]
  },
  {
   "cell_type": "markdown",
   "metadata": {},
   "source": [
    "\n",
    "### Question 1"
   ]
  },
  {
   "cell_type": "markdown",
   "metadata": {},
   "source": [
    "#### Grade point average of 12 graduating MBA students, GPA, and their GMAT scores taken before entering the MBA program are given below. Use the GMAT scores as a predictor of GPA, and conduct a regression of GPA on GMAT scores."
   ]
  },
  {
   "cell_type": "code",
   "execution_count": 1,
   "metadata": {},
   "outputs": [
    {
     "data": {
      "text/html": [
       "<table>\n",
       "<thead><tr><th scope=col>gmat</th><th scope=col>gpa</th></tr></thead>\n",
       "<tbody>\n",
       "\t<tr><td>560 </td><td>3.20</td></tr>\n",
       "\t<tr><td>540 </td><td>3.44</td></tr>\n",
       "\t<tr><td>520 </td><td>3.70</td></tr>\n",
       "\t<tr><td>580 </td><td>3.10</td></tr>\n",
       "\t<tr><td>520 </td><td>3.00</td></tr>\n",
       "\t<tr><td>620 </td><td>4.00</td></tr>\n",
       "\t<tr><td>660 </td><td>3.38</td></tr>\n",
       "\t<tr><td>630 </td><td>3.83</td></tr>\n",
       "\t<tr><td>550 </td><td>2.67</td></tr>\n",
       "\t<tr><td>550 </td><td>2.75</td></tr>\n",
       "\t<tr><td>600 </td><td>2.33</td></tr>\n",
       "\t<tr><td>537 </td><td>3.75</td></tr>\n",
       "</tbody>\n",
       "</table>\n"
      ],
      "text/latex": [
       "\\begin{tabular}{r|ll}\n",
       " gmat & gpa\\\\\n",
       "\\hline\n",
       "\t 560  & 3.20\\\\\n",
       "\t 540  & 3.44\\\\\n",
       "\t 520  & 3.70\\\\\n",
       "\t 580  & 3.10\\\\\n",
       "\t 520  & 3.00\\\\\n",
       "\t 620  & 4.00\\\\\n",
       "\t 660  & 3.38\\\\\n",
       "\t 630  & 3.83\\\\\n",
       "\t 550  & 2.67\\\\\n",
       "\t 550  & 2.75\\\\\n",
       "\t 600  & 2.33\\\\\n",
       "\t 537  & 3.75\\\\\n",
       "\\end{tabular}\n"
      ],
      "text/markdown": [
       "\n",
       "gmat | gpa | \n",
       "|---|---|---|---|---|---|---|---|---|---|---|---|\n",
       "| 560  | 3.20 | \n",
       "| 540  | 3.44 | \n",
       "| 520  | 3.70 | \n",
       "| 580  | 3.10 | \n",
       "| 520  | 3.00 | \n",
       "| 620  | 4.00 | \n",
       "| 660  | 3.38 | \n",
       "| 630  | 3.83 | \n",
       "| 550  | 2.67 | \n",
       "| 550  | 2.75 | \n",
       "| 600  | 2.33 | \n",
       "| 537  | 3.75 | \n",
       "\n",
       "\n"
      ],
      "text/plain": [
       "   gmat gpa \n",
       "1  560  3.20\n",
       "2  540  3.44\n",
       "3  520  3.70\n",
       "4  580  3.10\n",
       "5  520  3.00\n",
       "6  620  4.00\n",
       "7  660  3.38\n",
       "8  630  3.83\n",
       "9  550  2.67\n",
       "10 550  2.75\n",
       "11 600  2.33\n",
       "12 537  3.75"
      ]
     },
     "metadata": {},
     "output_type": "display_data"
    }
   ],
   "source": [
    "gmat <- c(560, 540, 520,  580, 520, 620, 660, 630, 550, 550, 600, 537)\n",
    "gpa <- c(3.20, 3.44, 3.70, 3.10, 3.00, 4.00, 3.38, 3.83, 2.67, 2.75, 2.33, 3.75)\n",
    "df <- data.frame(gmat,gpa)\n",
    "df"
   ]
  },
  {
   "cell_type": "markdown",
   "metadata": {},
   "source": [
    "#### a) Obtain and interpret the coefficient of determination $R^2$."
   ]
  },
  {
   "cell_type": "code",
   "execution_count": 2,
   "metadata": {},
   "outputs": [
    {
     "data": {
      "text/plain": [
       "\n",
       "Call:\n",
       "lm(formula = df$gpa ~ df$gmat)\n",
       "\n",
       "Residuals:\n",
       "     Min       1Q   Median       3Q      Max \n",
       "-0.98608 -0.25048 -0.04539  0.47659  0.64531 \n",
       "\n",
       "Coefficients:\n",
       "            Estimate Std. Error t value Pr(>|t|)\n",
       "(Intercept) 2.157611   2.014430   1.071    0.309\n",
       "df$gmat     0.001931   0.003510   0.550    0.594\n",
       "\n",
       "Residual standard error: 0.5326 on 10 degrees of freedom\n",
       "Multiple R-squared:  0.02937,\tAdjusted R-squared:  -0.06769 \n",
       "F-statistic: 0.3026 on 1 and 10 DF,  p-value: 0.5943\n"
      ]
     },
     "metadata": {},
     "output_type": "display_data"
    }
   ],
   "source": [
    "my_lm <- lm(df$gpa ~ df$gmat)\n",
    "summary(my_lm)"
   ]
  },
  {
   "cell_type": "markdown",
   "metadata": {},
   "source": [
    "#### Answer:\n",
    "$R^2$ = 0.02937. This represents the proportion of variation of GPA explained by GMAT. According to the given data, only 2.94% of the variation is explained by GMAT, which is really small."
   ]
  },
  {
   "cell_type": "markdown",
   "metadata": {},
   "source": [
    "#### b) Calculate the fitted value for the second person."
   ]
  },
  {
   "cell_type": "code",
   "execution_count": 3,
   "metadata": {},
   "outputs": [
    {
     "data": {
      "text/html": [
       "3.200351"
      ],
      "text/latex": [
       "3.200351"
      ],
      "text/markdown": [
       "3.200351"
      ],
      "text/plain": [
       "[1] 3.200351"
      ]
     },
     "metadata": {},
     "output_type": "display_data"
    }
   ],
   "source": [
    "gmat = 540\n",
    "gpa = 0.001931*gmat + 2.157611\n",
    "gpa"
   ]
  },
  {
   "cell_type": "markdown",
   "metadata": {},
   "source": [
    "#### Answer: \n",
    "According to our model, the second person's GPA = 3.200"
   ]
  },
  {
   "cell_type": "markdown",
   "metadata": {},
   "source": [
    "#### c) Test whether GMAT is an important predictor variable (use significant level 0.05)"
   ]
  },
  {
   "cell_type": "markdown",
   "metadata": {},
   "source": [
    "#### Answer: \n",
    "$H_0$: $\\beta_1$ = 0; \n",
    "$H_a$: $\\beta_1$ $\\neq$ 0;\n",
    "#### p-value = 0.594\n",
    "As p-value >> $\\alpha$ (0.05), we fail to reject the null hypothesis.\n",
    "Thus, GMAT is not an important predictor of GPA. \n",
    "<hr>"
   ]
  },
  {
   "cell_type": "markdown",
   "metadata": {},
   "source": [
    "### Question 2"
   ]
  },
  {
   "cell_type": "markdown",
   "metadata": {},
   "source": [
    "#### Suppose we have a data set with five predictors, $X_1$ =GPA, $X_2$ = IQ, $X_3$ = Gender (1 for Female and 0 for Male), $X_4$ = Interaction between GPA and IQ, and $X_5$ = Interaction between GPA and Gender. The response is starting salary after graduation (in thousands of dollars). Suppose we use least squares to fit the model, and get $\\hat{\\beta}_0$ = 50, $\\hat{\\beta}_1$ = 20, $\\hat{\\beta}_2$ = 0.07, $\\hat{\\beta}_3$ = 35, $\\hat{\\beta}_4$ = 0.01, $\\hat{\\beta}_5$ = −10."
   ]
  },
  {
   "cell_type": "markdown",
   "metadata": {},
   "source": [
    "$$Salary = \\hat{\\beta}_0 + \\hat{\\beta}_1 X_1 + \\hat{\\beta}_2 X_2 +  \\hat{\\beta}_3 X_3 + \\hat{\\beta}_4 X_4 + \\hat{\\beta}_5 X_5 = 50 + 20 X_1 + 0.07 X_2  + 35 X_3  + 0.01 X_4  - 10 X_5$$\n",
    "\n",
    "$$X_4 = X_1 X_2, X_5 = X_1 X_3$$  \n",
    "$$Salary = 50 + 20 X_1 + 0.07 X_2  + 35 X_3  + 0.01 X_1 X_2 - 10 X_1 X_3$$"
   ]
  },
  {
   "cell_type": "markdown",
   "metadata": {},
   "source": [
    "#### (a) Which answer is correct, and why?\n",
    "#### i. For a fixed value of IQ and GPA, males earn more on average than females.\n",
    "#### ii. For a fixed value of IQ and GPA, females earn more on average than males.\n",
    "#### iii. For a fixed value of IQ and GPA, males earn more on average than females provided that the GPA is high enough.\n",
    "####  iv. For a fixed value of IQ and GPA, females earn more on average than males provided that the GPA is high enough."
   ]
  },
  {
   "cell_type": "markdown",
   "metadata": {},
   "source": [
    "#### Answer: \n",
    "iii. For a fixed value of IQ and GPA, males earn more on average than females provided that the GPA is high enough. <br>\n",
    "$$Salary = 35 X_3 - 10 X_1 X_3 + Constants$$ \n",
    "For males, $Salary = Constants$. For females, $Salary = 35 - 10 * GPA + Constants$. <br>\n",
    "Salary of females is lesser than males if GPA is above 3.5"
   ]
  },
  {
   "cell_type": "markdown",
   "metadata": {},
   "source": [
    "#### b) Predict the salary of a female with IQ of 110 and a GPA of 4.0."
   ]
  },
  {
   "cell_type": "code",
   "execution_count": 4,
   "metadata": {},
   "outputs": [
    {
     "data": {
      "text/html": [
       "137.1"
      ],
      "text/latex": [
       "137.1"
      ],
      "text/markdown": [
       "137.1"
      ],
      "text/plain": [
       "[1] 137.1"
      ]
     },
     "metadata": {},
     "output_type": "display_data"
    }
   ],
   "source": [
    "gpa = 4.0\n",
    "IQ = 110 \n",
    "gender = 1\n",
    "salary = 50 + (20 * gpa) + (0.07 * IQ) + (35 * gender) + (0.01 * gpa * IQ) - (10 * gpa * gender)\n",
    "salary"
   ]
  },
  {
   "cell_type": "markdown",
   "metadata": {},
   "source": [
    "#### Answer: \n",
    "Female's salary with those characteristics is predicted to be 137.1"
   ]
  },
  {
   "cell_type": "markdown",
   "metadata": {},
   "source": [
    "#### c) True or false: Since the coefficient for the GPA/IQ interaction term is very small, there is very little evidence of an interaction effect. Justify your answer."
   ]
  },
  {
   "cell_type": "markdown",
   "metadata": {},
   "source": [
    "#### Answer: False\n",
    "The coefficient for the GPA/IQ interaction term reflects the effect of such an interaction on the salary. It doesn't eliminate the chance of interaction effect. To study if there is any interaction effect, hypothesis testing using p-value/F-value is required.\n",
    "<hr>"
   ]
  },
  {
   "cell_type": "markdown",
   "metadata": {},
   "source": [
    "### Question 3"
   ]
  },
  {
   "cell_type": "markdown",
   "metadata": {},
   "source": [
    "#### In this exercise you will create some simulated data and will fit simple linear regression models to it.\n",
    "#### a) Using the rnorm() function, create a vector, x, containing 100 observations drawn from a N(0, 1) distribution. This represents a feature, X.\n",
    "#### b) Using the rnorm() function, create a vector, ϵ, containing 100 observations drawn from a N(0, 0.25) distribution i.e. a normal distribution with mean zero and variance 0.25.\n",
    "#### Answer:"
   ]
  },
  {
   "cell_type": "code",
   "execution_count": 5,
   "metadata": {
    "collapsed": true
   },
   "outputs": [],
   "source": [
    "set.seed(1)\n",
    "x <- rnorm(100, mean=0, sd=1)\n",
    "e <- rnorm(100, mean=0, sd=0.25)"
   ]
  },
  {
   "cell_type": "markdown",
   "metadata": {},
   "source": [
    "#### c) Using x and ϵ, generate a vector y according to the model: Y = −1 + 0.5X + ϵ. What is the length of the vector y? What are the values of $\\beta_0$ and $\\beta_1$ in this linear model?"
   ]
  },
  {
   "cell_type": "code",
   "execution_count": 6,
   "metadata": {},
   "outputs": [
    {
     "data": {
      "text/html": [
       "100"
      ],
      "text/latex": [
       "100"
      ],
      "text/markdown": [
       "100"
      ],
      "text/plain": [
       "[1] 100"
      ]
     },
     "metadata": {},
     "output_type": "display_data"
    }
   ],
   "source": [
    "y <- 0.5*x + e - 1\n",
    "length(y)"
   ]
  },
  {
   "cell_type": "markdown",
   "metadata": {},
   "source": [
    "#### Answer: \n",
    "Length = 100; $\\beta_0$ = -1; $\\beta_1$ = 0.5"
   ]
  },
  {
   "cell_type": "markdown",
   "metadata": {},
   "source": [
    "#### d) Create a scatterplot displaying the relationship between x and y. Comment on what you observe."
   ]
  },
  {
   "cell_type": "code",
   "execution_count": 7,
   "metadata": {},
   "outputs": [
    {
     "data": {
      "image/png": "[encoded data removed]",
      "text/plain": [
       "plot without title"
      ]
     },
     "metadata": {},
     "output_type": "display_data"
    }
   ],
   "source": [
    "plot(x,y)"
   ]
  },
  {
   "cell_type": "markdown",
   "metadata": {},
   "source": [
    "#### Answer:\n",
    "There seems to be a positive correlation between X and Y. The error term induces noise. "
   ]
  },
  {
   "cell_type": "markdown",
   "metadata": {},
   "source": [
    "<h4> e) Fit a least squares linear model to predict $y$ using $x$. Comment on the model obtained. How do $\\hat{\\beta}_0$ and $\\hat{\\beta}_1$ compare to $\\beta_0$ and $\\beta_1$? </h4>"
   ]
  },
  {
   "cell_type": "code",
   "execution_count": 8,
   "metadata": {},
   "outputs": [
    {
     "data": {
      "text/plain": [
       "\n",
       "Call:\n",
       "lm(formula = y ~ x)\n",
       "\n",
       "Residuals:\n",
       "     Min       1Q   Median       3Q      Max \n",
       "-0.46921 -0.15344 -0.03487  0.13485  0.58654 \n",
       "\n",
       "Coefficients:\n",
       "            Estimate Std. Error t value Pr(>|t|)    \n",
       "(Intercept) -1.00942    0.02425  -41.63   <2e-16 ***\n",
       "x            0.49973    0.02693   18.56   <2e-16 ***\n",
       "---\n",
       "Signif. codes:  0 '***' 0.001 '**' 0.01 '*' 0.05 '.' 0.1 ' ' 1\n",
       "\n",
       "Residual standard error: 0.2407 on 98 degrees of freedom\n",
       "Multiple R-squared:  0.7784,\tAdjusted R-squared:  0.7762 \n",
       "F-statistic: 344.3 on 1 and 98 DF,  p-value: < 2.2e-16\n"
      ]
     },
     "metadata": {},
     "output_type": "display_data"
    }
   ],
   "source": [
    "lm_fit <- lm(y ~ x)\n",
    "summary(lm_fit)"
   ]
  },
  {
   "cell_type": "markdown",
   "metadata": {},
   "source": [
    "#### Answer: \n",
    "$\\hat{\\beta}_0$ =-1.0094; $\\hat{\\beta}_1$ = 0.4997 <br>\n",
    "$\\hat{\\beta}_0$ and $\\hat{\\beta}_1$ are pretty close to $\\beta_0$ and $\\beta_1$ respectively. The obtained model is close to the original data."
   ]
  },
  {
   "cell_type": "markdown",
   "metadata": {},
   "source": [
    "<h4> f) Now fit a polynomial regression model that predicts $y$ using $x$ and $x^2$. Is there evidence that the quadratic term improves the model fit? Explain your answer. </h4>"
   ]
  },
  {
   "cell_type": "code",
   "execution_count": 9,
   "metadata": {},
   "outputs": [
    {
     "data": {
      "text/plain": [
       "\n",
       "Call:\n",
       "lm(formula = y ~ x + I(x^2))\n",
       "\n",
       "Residuals:\n",
       "    Min      1Q  Median      3Q     Max \n",
       "-0.4913 -0.1563 -0.0322  0.1451  0.5675 \n",
       "\n",
       "Coefficients:\n",
       "            Estimate Std. Error t value Pr(>|t|)    \n",
       "(Intercept) -0.98582    0.02941 -33.516   <2e-16 ***\n",
       "x            0.50429    0.02700  18.680   <2e-16 ***\n",
       "I(x^2)      -0.02973    0.02119  -1.403    0.164    \n",
       "---\n",
       "Signif. codes:  0 '***' 0.001 '**' 0.01 '*' 0.05 '.' 0.1 ' ' 1\n",
       "\n",
       "Residual standard error: 0.2395 on 97 degrees of freedom\n",
       "Multiple R-squared:  0.7828,\tAdjusted R-squared:  0.7784 \n",
       "F-statistic: 174.8 on 2 and 97 DF,  p-value: < 2.2e-16\n"
      ]
     },
     "metadata": {},
     "output_type": "display_data"
    }
   ],
   "source": [
    "poly_m <- lm(y ~ x + I(x^2))\n",
    "summary(poly_m)"
   ]
  },
  {
   "cell_type": "markdown",
   "metadata": {},
   "source": [
    "#### Answer:\n",
    "There is no evidence of improvement of model fit. The $R^2$ of the polynomial model is less than that of linear model. "
   ]
  },
  {
   "cell_type": "markdown",
   "metadata": {
    "collapsed": true
   },
   "source": [
    "#### g)  Repeat (a)-(f) after modifying the data generation process in such a way that there is less noise in the data. The model (1) should remain the same. You can do this by decreasing the variance of the normal distribution used to generate the error term ϵ in (b). Describe your results. "
   ]
  },
  {
   "cell_type": "code",
   "execution_count": 10,
   "metadata": {},
   "outputs": [
    {
     "data": {
      "image/png": "[encoded data removed]",
      "text/plain": [
       "plot without title"
      ]
     },
     "metadata": {},
     "output_type": "display_data"
    }
   ],
   "source": [
    "e_less_noise <- rnorm(100, mean=0, sd=0.1)\n",
    "y_less_noise <- 0.5*x + e_less_noise - 1\n",
    "lm_fit_less_noise <- lm(y_less_noise ~ x)\n",
    "plot(x,y_less_noise)\n",
    "abline(lm_fit_less_noise)"
   ]
  },
  {
   "cell_type": "markdown",
   "metadata": {},
   "source": [
    "#### Answer:\n",
    "X and Y are closer to the best-fit line."
   ]
  },
  {
   "cell_type": "code",
   "execution_count": 11,
   "metadata": {},
   "outputs": [
    {
     "data": {
      "text/plain": [
       "\n",
       "Call:\n",
       "lm(formula = y_less_noise ~ x)\n",
       "\n",
       "Residuals:\n",
       "      Min        1Q    Median        3Q       Max \n",
       "-0.291411 -0.048230 -0.004533  0.064924  0.264157 \n",
       "\n",
       "Coefficients:\n",
       "            Estimate Std. Error t value Pr(>|t|)    \n",
       "(Intercept) -0.99726    0.01047  -95.25   <2e-16 ***\n",
       "x            0.50212    0.01163   43.17   <2e-16 ***\n",
       "---\n",
       "Signif. codes:  0 '***' 0.001 '**' 0.01 '*' 0.05 '.' 0.1 ' ' 1\n",
       "\n",
       "Residual standard error: 0.1039 on 98 degrees of freedom\n",
       "Multiple R-squared:  0.9501,\tAdjusted R-squared:  0.9495 \n",
       "F-statistic:  1864 on 1 and 98 DF,  p-value: < 2.2e-16\n"
      ]
     },
     "metadata": {},
     "output_type": "display_data"
    }
   ],
   "source": [
    "summary(lm_fit_less_noise)"
   ]
  },
  {
   "cell_type": "markdown",
   "metadata": {},
   "source": [
    "#### Answer: \n",
    "$\\hat{\\beta}_0$ =-0.9972; $\\hat{\\beta}_1$ = 0.50212 <br>\n",
    "$\\hat{\\beta}_0$ and $\\hat{\\beta}_1$ are almost equal to $\\beta_0$ and $\\beta_1$ respectively. <br>\n",
    "The obtained model is extremely close to the original data."
   ]
  },
  {
   "cell_type": "markdown",
   "metadata": {},
   "source": [
    "#### h) Repeat (a)-(f) after modifying the data generation process in such a way that there is more noise in the data. The model (1) should remain the same. You can do this by increasing the variance of the normal distribution used to generate the error term ϵ in (b). Describe your results."
   ]
  },
  {
   "cell_type": "code",
   "execution_count": 12,
   "metadata": {},
   "outputs": [
    {
     "data": {
      "image/png": "[encoded data removed]",
      "text/plain": [
       "plot without title"
      ]
     },
     "metadata": {},
     "output_type": "display_data"
    }
   ],
   "source": [
    "e_more_noise <- rnorm(100, mean=0, sd=0.7)\n",
    "y_more_noise <- 0.5*x + e_more_noise - 1\n",
    "lm_fit_more_noise <- lm(y_more_noise ~ x)\n",
    "plot(x,y_more_noise)\n",
    "abline(lm_fit_more_noise)"
   ]
  },
  {
   "cell_type": "markdown",
   "metadata": {},
   "source": [
    "#### Answer:\n",
    "X and Y are farther away from the best-fit line."
   ]
  },
  {
   "cell_type": "code",
   "execution_count": 13,
   "metadata": {},
   "outputs": [
    {
     "data": {
      "text/plain": [
       "\n",
       "Call:\n",
       "lm(formula = y_more_noise ~ x)\n",
       "\n",
       "Residuals:\n",
       "     Min       1Q   Median       3Q      Max \n",
       "-1.76138 -0.38167 -0.02643  0.47102  1.31521 \n",
       "\n",
       "Coefficients:\n",
       "            Estimate Std. Error t value Pr(>|t|)    \n",
       "(Intercept) -0.95963    0.07020 -13.671  < 2e-16 ***\n",
       "x            0.46102    0.07797   5.913 4.91e-08 ***\n",
       "---\n",
       "Signif. codes:  0 '***' 0.001 '**' 0.01 '*' 0.05 '.' 0.1 ' ' 1\n",
       "\n",
       "Residual standard error: 0.6968 on 98 degrees of freedom\n",
       "Multiple R-squared:  0.2629,\tAdjusted R-squared:  0.2554 \n",
       "F-statistic: 34.96 on 1 and 98 DF,  p-value: 4.914e-08\n"
      ]
     },
     "metadata": {},
     "output_type": "display_data"
    }
   ],
   "source": [
    "summary(lm_fit_more_noise)"
   ]
  },
  {
   "cell_type": "markdown",
   "metadata": {},
   "source": [
    "#### Answer: \n",
    "$\\hat{\\beta}_0$ =-1.02215; $\\hat{\\beta}_1$ = 0.41721 <br> \n",
    "The $\\hat{\\beta}_0$ and $\\hat{\\beta}_1$ are much different than $\\beta_0$ and $\\beta_1$ respectively. <br>\n",
    "The obtained model deviates from the original data."
   ]
  },
  {
   "cell_type": "markdown",
   "metadata": {},
   "source": [
    "<h4> i) What are the confidence intervals for $\\beta_0$ and $\\beta_1$ based on the original data set, the noisier data set, and the less noisy data set? Comment on your results. </h4>"
   ]
  },
  {
   "cell_type": "code",
   "execution_count": 14,
   "metadata": {},
   "outputs": [
    {
     "data": {
      "text/html": [
       "<table>\n",
       "<thead><tr><th></th><th scope=col>2.5 %</th><th scope=col>97.5 %</th></tr></thead>\n",
       "<tbody>\n",
       "\t<tr><th scope=row>(Intercept)</th><td>-1.0575402</td><td>-0.9613061</td></tr>\n",
       "\t<tr><th scope=row>x</th><td> 0.4462897</td><td> 0.5531801</td></tr>\n",
       "</tbody>\n",
       "</table>\n"
      ],
      "text/latex": [
       "\\begin{tabular}{r|ll}\n",
       "  & 2.5 \\% & 97.5 \\%\\\\\n",
       "\\hline\n",
       "\t(Intercept) & -1.0575402 & -0.9613061\\\\\n",
       "\tx &  0.4462897 &  0.5531801\\\\\n",
       "\\end{tabular}\n"
      ],
      "text/markdown": [
       "\n",
       "| <!--/--> | 2.5 % | 97.5 % | \n",
       "|---|---|\n",
       "| (Intercept) | -1.0575402 | -0.9613061 | \n",
       "| x |  0.4462897 |  0.5531801 | \n",
       "\n",
       "\n"
      ],
      "text/plain": [
       "            2.5 %      97.5 %    \n",
       "(Intercept) -1.0575402 -0.9613061\n",
       "x            0.4462897  0.5531801"
      ]
     },
     "metadata": {},
     "output_type": "display_data"
    }
   ],
   "source": [
    "confint(lm_fit)"
   ]
  },
  {
   "cell_type": "code",
   "execution_count": 15,
   "metadata": {},
   "outputs": [
    {
     "data": {
      "text/html": [
       "<table>\n",
       "<thead><tr><th></th><th scope=col>2.5 %</th><th scope=col>97.5 %</th></tr></thead>\n",
       "<tbody>\n",
       "\t<tr><th scope=row>(Intercept)</th><td>-1.0180413</td><td>-0.9764850</td></tr>\n",
       "\t<tr><th scope=row>x</th><td> 0.4790377</td><td> 0.5251957</td></tr>\n",
       "</tbody>\n",
       "</table>\n"
      ],
      "text/latex": [
       "\\begin{tabular}{r|ll}\n",
       "  & 2.5 \\% & 97.5 \\%\\\\\n",
       "\\hline\n",
       "\t(Intercept) & -1.0180413 & -0.9764850\\\\\n",
       "\tx &  0.4790377 &  0.5251957\\\\\n",
       "\\end{tabular}\n"
      ],
      "text/markdown": [
       "\n",
       "| <!--/--> | 2.5 % | 97.5 % | \n",
       "|---|---|\n",
       "| (Intercept) | -1.0180413 | -0.9764850 | \n",
       "| x |  0.4790377 |  0.5251957 | \n",
       "\n",
       "\n"
      ],
      "text/plain": [
       "            2.5 %      97.5 %    \n",
       "(Intercept) -1.0180413 -0.9764850\n",
       "x            0.4790377  0.5251957"
      ]
     },
     "metadata": {},
     "output_type": "display_data"
    }
   ],
   "source": [
    "confint(lm_fit_less_noise)"
   ]
  },
  {
   "cell_type": "code",
   "execution_count": 16,
   "metadata": {},
   "outputs": [
    {
     "data": {
      "text/html": [
       "<table>\n",
       "<thead><tr><th></th><th scope=col>2.5 %</th><th scope=col>97.5 %</th></tr></thead>\n",
       "<tbody>\n",
       "\t<tr><th scope=row>(Intercept)</th><td>-1.0989380</td><td>-0.8203305</td></tr>\n",
       "\t<tr><th scope=row>x</th><td> 0.3062905</td><td> 0.6157491</td></tr>\n",
       "</tbody>\n",
       "</table>\n"
      ],
      "text/latex": [
       "\\begin{tabular}{r|ll}\n",
       "  & 2.5 \\% & 97.5 \\%\\\\\n",
       "\\hline\n",
       "\t(Intercept) & -1.0989380 & -0.8203305\\\\\n",
       "\tx &  0.3062905 &  0.6157491\\\\\n",
       "\\end{tabular}\n"
      ],
      "text/markdown": [
       "\n",
       "| <!--/--> | 2.5 % | 97.5 % | \n",
       "|---|---|\n",
       "| (Intercept) | -1.0989380 | -0.8203305 | \n",
       "| x |  0.3062905 |  0.6157491 | \n",
       "\n",
       "\n"
      ],
      "text/plain": [
       "            2.5 %      97.5 %    \n",
       "(Intercept) -1.0989380 -0.8203305\n",
       "x            0.3062905  0.6157491"
      ]
     },
     "metadata": {},
     "output_type": "display_data"
    }
   ],
   "source": [
    "confint(lm_fit_more_noise)"
   ]
  },
  {
   "cell_type": "markdown",
   "metadata": {
    "collapsed": true
   },
   "source": [
    "#### Answer:\n",
    "The confidence interval for $\\beta_0$ and $\\beta_1$ is dependent on the noise. The more the noise, larger the confidence interval (reflecting larger uncertainity). Conversely, the confidence interval is narrow, if the noise is low. \n"
   ]
  }
 ],
 "metadata": {
  "kernelspec": {
   "display_name": "R",
   "language": "R",
   "name": "ir"
  },
  "language_info": {
   "codemirror_mode": "r",
   "file_extension": ".r",
   "mimetype": "text/x-r-source",
   "name": "R",
   "pygments_lexer": "r",
   "version": "3.4.2"
  }
 },
 "nbformat": 4,
 "nbformat_minor": 2
}
