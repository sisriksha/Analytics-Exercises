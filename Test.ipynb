{
  "nbformat": 4,
  "nbformat_minor": 0,
  "metadata": {
    "colab": {
      "name": "Test.ipynb",
      "provenance": [],
      "authorship_tag": "ABX9TyM65xLI92BXD2aREFT1efxg",
      "include_colab_link": true
    },
    "kernelspec": {
      "name": "python3",
      "display_name": "Python 3"
    }
  },
  "cells": [
    {
      "cell_type": "markdown",
      "metadata": {
        "id": "view-in-github",
        "colab_type": "text"
      },
      "source": [
        "<a href=\"https://colab.research.google.com/github/sisriksha/Analytics-Exercises/blob/master/Test.ipynb\" target=\"_parent\"><img src=\"https://colab.research.google.com/assets/colab-badge.svg\" alt=\"Open In Colab\"/></a>"
      ]
    },
    {
      "cell_type": "markdown",
      "metadata": {
        "id": "lXY2ddIPjNn5"
      },
      "source": [
        "<img src=\"https://raw.githubusercontent.com/sisriksha/wisdom/main/images/uml2.png?token=ABBFG3Z3IDGIIXYVW2BWND27PGACW\" height=\"200\">"
      ]
    },
    {
      "cell_type": "markdown",
      "metadata": {
        "id": "t-OFwGrKhE90"
      },
      "source": [
        " Some equations to get started.<br> \n",
        "$y = 2x^2$"
      ]
    }
  ]
}