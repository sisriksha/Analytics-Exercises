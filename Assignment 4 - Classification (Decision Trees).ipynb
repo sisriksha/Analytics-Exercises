{
 "cells": [
  {
   "cell_type": "markdown",
   "metadata": {},
   "source": [
    "### Classification (Decision Trees)\n",
    "<hr>"
   ]
  },
  {
   "cell_type": "markdown",
   "metadata": {},
   "source": [
    "#### Question 1\n",
    "\n",
    "#### This problem involves the OJ data set which is part of the ISLR package and also available at Blakboard.\n",
    "\n",
    "#### a) Create a training set containing a random sample of 800 observations, and a test set containing the remaining observations."
   ]
  },
  {
   "cell_type": "code",
   "execution_count": 1,
   "metadata": {},
   "outputs": [
    {
     "data": {
      "text/html": [
       "<table>\n",
       "<thead><tr><th scope=col>Purchase</th><th scope=col>WeekofPurchase</th><th scope=col>StoreID</th><th scope=col>PriceCH</th><th scope=col>PriceMM</th><th scope=col>DiscCH</th><th scope=col>DiscMM</th><th scope=col>SpecialCH</th><th scope=col>SpecialMM</th><th scope=col>LoyalCH</th><th scope=col>SalePriceMM</th><th scope=col>SalePriceCH</th><th scope=col>PriceDiff</th><th scope=col>Store7</th><th scope=col>PctDiscMM</th><th scope=col>PctDiscCH</th><th scope=col>ListPriceDiff</th><th scope=col>STORE</th></tr></thead>\n",
       "<tbody>\n",
       "\t<tr><td>CH      </td><td>237     </td><td>1       </td><td>1.75    </td><td>1.99    </td><td>0.00    </td><td>0.0     </td><td>0       </td><td>0       </td><td>0.500000</td><td>1.99    </td><td>1.75    </td><td> 0.24   </td><td>No      </td><td>0.000000</td><td>0.000000</td><td>0.24    </td><td>1       </td></tr>\n",
       "\t<tr><td>CH      </td><td>239     </td><td>1       </td><td>1.75    </td><td>1.99    </td><td>0.00    </td><td>0.3     </td><td>0       </td><td>1       </td><td>0.600000</td><td>1.69    </td><td>1.75    </td><td>-0.06   </td><td>No      </td><td>0.150754</td><td>0.000000</td><td>0.24    </td><td>1       </td></tr>\n",
       "\t<tr><td>CH      </td><td>245     </td><td>1       </td><td>1.86    </td><td>2.09    </td><td>0.17    </td><td>0.0     </td><td>0       </td><td>0       </td><td>0.680000</td><td>2.09    </td><td>1.69    </td><td> 0.40   </td><td>No      </td><td>0.000000</td><td>0.091398</td><td>0.23    </td><td>1       </td></tr>\n",
       "\t<tr><td>MM      </td><td>227     </td><td>1       </td><td>1.69    </td><td>1.69    </td><td>0.00    </td><td>0.0     </td><td>0       </td><td>0       </td><td>0.400000</td><td>1.69    </td><td>1.69    </td><td> 0.00   </td><td>No      </td><td>0.000000</td><td>0.000000</td><td>0.00    </td><td>1       </td></tr>\n",
       "\t<tr><td>CH      </td><td>228     </td><td>7       </td><td>1.69    </td><td>1.69    </td><td>0.00    </td><td>0.0     </td><td>0       </td><td>0       </td><td>0.956535</td><td>1.69    </td><td>1.69    </td><td> 0.00   </td><td>Yes     </td><td>0.000000</td><td>0.000000</td><td>0.00    </td><td>0       </td></tr>\n",
       "\t<tr><td>CH      </td><td>230     </td><td>7       </td><td>1.69    </td><td>1.99    </td><td>0.00    </td><td>0.0     </td><td>0       </td><td>1       </td><td>0.965228</td><td>1.99    </td><td>1.69    </td><td> 0.30   </td><td>Yes     </td><td>0.000000</td><td>0.000000</td><td>0.30    </td><td>0       </td></tr>\n",
       "</tbody>\n",
       "</table>\n"
      ],
      "text/latex": [
       "\\begin{tabular}{r|llllllllllllllllll}\n",
       " Purchase & WeekofPurchase & StoreID & PriceCH & PriceMM & DiscCH & DiscMM & SpecialCH & SpecialMM & LoyalCH & SalePriceMM & SalePriceCH & PriceDiff & Store7 & PctDiscMM & PctDiscCH & ListPriceDiff & STORE\\\\\n",
       "\\hline\n",
       "\t CH       & 237      & 1        & 1.75     & 1.99     & 0.00     & 0.0      & 0        & 0        & 0.500000 & 1.99     & 1.75     &  0.24    & No       & 0.000000 & 0.000000 & 0.24     & 1       \\\\\n",
       "\t CH       & 239      & 1        & 1.75     & 1.99     & 0.00     & 0.3      & 0        & 1        & 0.600000 & 1.69     & 1.75     & -0.06    & No       & 0.150754 & 0.000000 & 0.24     & 1       \\\\\n",
       "\t CH       & 245      & 1        & 1.86     & 2.09     & 0.17     & 0.0      & 0        & 0        & 0.680000 & 2.09     & 1.69     &  0.40    & No       & 0.000000 & 0.091398 & 0.23     & 1       \\\\\n",
       "\t MM       & 227      & 1        & 1.69     & 1.69     & 0.00     & 0.0      & 0        & 0        & 0.400000 & 1.69     & 1.69     &  0.00    & No       & 0.000000 & 0.000000 & 0.00     & 1       \\\\\n",
       "\t CH       & 228      & 7        & 1.69     & 1.69     & 0.00     & 0.0      & 0        & 0        & 0.956535 & 1.69     & 1.69     &  0.00    & Yes      & 0.000000 & 0.000000 & 0.00     & 0       \\\\\n",
       "\t CH       & 230      & 7        & 1.69     & 1.99     & 0.00     & 0.0      & 0        & 1        & 0.965228 & 1.99     & 1.69     &  0.30    & Yes      & 0.000000 & 0.000000 & 0.30     & 0       \\\\\n",
       "\\end{tabular}\n"
      ],
      "text/markdown": [
       "\n",
       "Purchase | WeekofPurchase | StoreID | PriceCH | PriceMM | DiscCH | DiscMM | SpecialCH | SpecialMM | LoyalCH | SalePriceMM | SalePriceCH | PriceDiff | Store7 | PctDiscMM | PctDiscCH | ListPriceDiff | STORE | \n",
       "|---|---|---|---|---|---|\n",
       "| CH       | 237      | 1        | 1.75     | 1.99     | 0.00     | 0.0      | 0        | 0        | 0.500000 | 1.99     | 1.75     |  0.24    | No       | 0.000000 | 0.000000 | 0.24     | 1        | \n",
       "| CH       | 239      | 1        | 1.75     | 1.99     | 0.00     | 0.3      | 0        | 1        | 0.600000 | 1.69     | 1.75     | -0.06    | No       | 0.150754 | 0.000000 | 0.24     | 1        | \n",
       "| CH       | 245      | 1        | 1.86     | 2.09     | 0.17     | 0.0      | 0        | 0        | 0.680000 | 2.09     | 1.69     |  0.40    | No       | 0.000000 | 0.091398 | 0.23     | 1        | \n",
       "| MM       | 227      | 1        | 1.69     | 1.69     | 0.00     | 0.0      | 0        | 0        | 0.400000 | 1.69     | 1.69     |  0.00    | No       | 0.000000 | 0.000000 | 0.00     | 1        | \n",
       "| CH       | 228      | 7        | 1.69     | 1.69     | 0.00     | 0.0      | 0        | 0        | 0.956535 | 1.69     | 1.69     |  0.00    | Yes      | 0.000000 | 0.000000 | 0.00     | 0        | \n",
       "| CH       | 230      | 7        | 1.69     | 1.99     | 0.00     | 0.0      | 0        | 1        | 0.965228 | 1.99     | 1.69     |  0.30    | Yes      | 0.000000 | 0.000000 | 0.30     | 0        | \n",
       "\n",
       "\n"
      ],
      "text/plain": [
       "  Purchase WeekofPurchase StoreID PriceCH PriceMM DiscCH DiscMM SpecialCH\n",
       "1 CH       237            1       1.75    1.99    0.00   0.0    0        \n",
       "2 CH       239            1       1.75    1.99    0.00   0.3    0        \n",
       "3 CH       245            1       1.86    2.09    0.17   0.0    0        \n",
       "4 MM       227            1       1.69    1.69    0.00   0.0    0        \n",
       "5 CH       228            7       1.69    1.69    0.00   0.0    0        \n",
       "6 CH       230            7       1.69    1.99    0.00   0.0    0        \n",
       "  SpecialMM LoyalCH  SalePriceMM SalePriceCH PriceDiff Store7 PctDiscMM\n",
       "1 0         0.500000 1.99        1.75         0.24     No     0.000000 \n",
       "2 1         0.600000 1.69        1.75        -0.06     No     0.150754 \n",
       "3 0         0.680000 2.09        1.69         0.40     No     0.000000 \n",
       "4 0         0.400000 1.69        1.69         0.00     No     0.000000 \n",
       "5 0         0.956535 1.69        1.69         0.00     Yes    0.000000 \n",
       "6 1         0.965228 1.99        1.69         0.30     Yes    0.000000 \n",
       "  PctDiscCH ListPriceDiff STORE\n",
       "1 0.000000  0.24          1    \n",
       "2 0.000000  0.24          1    \n",
       "3 0.091398  0.23          1    \n",
       "4 0.000000  0.00          1    \n",
       "5 0.000000  0.00          0    \n",
       "6 0.000000  0.30          0    "
      ]
     },
     "metadata": {},
     "output_type": "display_data"
    }
   ],
   "source": [
    "library(ISLR)\n",
    "library(tree)\n",
    "head(OJ)"
   ]
  },
  {
   "cell_type": "code",
   "execution_count": 2,
   "metadata": {},
   "outputs": [
    {
     "name": "stdout",
     "output_type": "stream",
     "text": [
      " int [1:800] 198 751 613 180 1007 1005 138 886 498 584 ...\n"
     ]
    }
   ],
   "source": [
    "set.seed(2)\n",
    "train <- sample(1:nrow(OJ), 800)\n",
    "str(train)"
   ]
  },
  {
   "cell_type": "code",
   "execution_count": 3,
   "metadata": {},
   "outputs": [
    {
     "data": {
      "text/html": [
       "<table>\n",
       "<thead><tr><th></th><th scope=col>Purchase</th><th scope=col>WeekofPurchase</th><th scope=col>StoreID</th><th scope=col>PriceCH</th><th scope=col>PriceMM</th><th scope=col>DiscCH</th><th scope=col>DiscMM</th><th scope=col>SpecialCH</th><th scope=col>SpecialMM</th><th scope=col>LoyalCH</th><th scope=col>SalePriceMM</th><th scope=col>SalePriceCH</th><th scope=col>PriceDiff</th><th scope=col>Store7</th><th scope=col>PctDiscMM</th><th scope=col>PctDiscCH</th><th scope=col>ListPriceDiff</th><th scope=col>STORE</th></tr></thead>\n",
       "<tbody>\n",
       "\t<tr><th scope=row>198</th><td>CH      </td><td>275     </td><td>7       </td><td>1.99    </td><td>2.13    </td><td>0       </td><td>0.54    </td><td>1       </td><td>0       </td><td>0.999896</td><td>1.59    </td><td>1.99    </td><td>-0.40   </td><td>Yes     </td><td>0.253521</td><td>0       </td><td>0.14    </td><td>0       </td></tr>\n",
       "\t<tr><th scope=row>751</th><td>CH      </td><td>229     </td><td>7       </td><td>1.69    </td><td>1.69    </td><td>0       </td><td>0.20    </td><td>0       </td><td>1       </td><td>0.680000</td><td>1.49    </td><td>1.69    </td><td>-0.20   </td><td>Yes     </td><td>0.118343</td><td>0       </td><td>0.00    </td><td>0       </td></tr>\n",
       "\t<tr><th scope=row>613</th><td>CH      </td><td>259     </td><td>7       </td><td>1.86    </td><td>2.18    </td><td>0       </td><td>0.00    </td><td>0       </td><td>0       </td><td>0.363840</td><td>2.18    </td><td>1.86    </td><td> 0.32   </td><td>Yes     </td><td>0.000000</td><td>0       </td><td>0.32    </td><td>0       </td></tr>\n",
       "\t<tr><th scope=row>180</th><td>CH      </td><td>246     </td><td>4       </td><td>1.99    </td><td>2.23    </td><td>0       </td><td>0.00    </td><td>0       </td><td>0       </td><td>0.994235</td><td>2.23    </td><td>1.99    </td><td> 0.24   </td><td>No      </td><td>0.000000</td><td>0       </td><td>0.24    </td><td>4       </td></tr>\n",
       "\t<tr><th scope=row>1007</th><td>CH      </td><td>272     </td><td>3       </td><td>1.99    </td><td>2.09    </td><td>0       </td><td>0.40    </td><td>0       </td><td>0       </td><td>0.067109</td><td>1.69    </td><td>1.99    </td><td>-0.30   </td><td>No      </td><td>0.191388</td><td>0       </td><td>0.10    </td><td>3       </td></tr>\n",
       "\t<tr><th scope=row>1005</th><td>MM      </td><td>238     </td><td>3       </td><td>1.79    </td><td>2.09    </td><td>0       </td><td>0.00    </td><td>0       </td><td>0       </td><td>0.104858</td><td>2.09    </td><td>1.79    </td><td> 0.30   </td><td>No      </td><td>0.000000</td><td>0       </td><td>0.30    </td><td>3       </td></tr>\n",
       "</tbody>\n",
       "</table>\n"
      ],
      "text/latex": [
       "\\begin{tabular}{r|llllllllllllllllll}\n",
       "  & Purchase & WeekofPurchase & StoreID & PriceCH & PriceMM & DiscCH & DiscMM & SpecialCH & SpecialMM & LoyalCH & SalePriceMM & SalePriceCH & PriceDiff & Store7 & PctDiscMM & PctDiscCH & ListPriceDiff & STORE\\\\\n",
       "\\hline\n",
       "\t198 & CH       & 275      & 7        & 1.99     & 2.13     & 0        & 0.54     & 1        & 0        & 0.999896 & 1.59     & 1.99     & -0.40    & Yes      & 0.253521 & 0        & 0.14     & 0       \\\\\n",
       "\t751 & CH       & 229      & 7        & 1.69     & 1.69     & 0        & 0.20     & 0        & 1        & 0.680000 & 1.49     & 1.69     & -0.20    & Yes      & 0.118343 & 0        & 0.00     & 0       \\\\\n",
       "\t613 & CH       & 259      & 7        & 1.86     & 2.18     & 0        & 0.00     & 0        & 0        & 0.363840 & 2.18     & 1.86     &  0.32    & Yes      & 0.000000 & 0        & 0.32     & 0       \\\\\n",
       "\t180 & CH       & 246      & 4        & 1.99     & 2.23     & 0        & 0.00     & 0        & 0        & 0.994235 & 2.23     & 1.99     &  0.24    & No       & 0.000000 & 0        & 0.24     & 4       \\\\\n",
       "\t1007 & CH       & 272      & 3        & 1.99     & 2.09     & 0        & 0.40     & 0        & 0        & 0.067109 & 1.69     & 1.99     & -0.30    & No       & 0.191388 & 0        & 0.10     & 3       \\\\\n",
       "\t1005 & MM       & 238      & 3        & 1.79     & 2.09     & 0        & 0.00     & 0        & 0        & 0.104858 & 2.09     & 1.79     &  0.30    & No       & 0.000000 & 0        & 0.30     & 3       \\\\\n",
       "\\end{tabular}\n"
      ],
      "text/markdown": [
       "\n",
       "| <!--/--> | Purchase | WeekofPurchase | StoreID | PriceCH | PriceMM | DiscCH | DiscMM | SpecialCH | SpecialMM | LoyalCH | SalePriceMM | SalePriceCH | PriceDiff | Store7 | PctDiscMM | PctDiscCH | ListPriceDiff | STORE | \n",
       "|---|---|---|---|---|---|\n",
       "| 198 | CH       | 275      | 7        | 1.99     | 2.13     | 0        | 0.54     | 1        | 0        | 0.999896 | 1.59     | 1.99     | -0.40    | Yes      | 0.253521 | 0        | 0.14     | 0        | \n",
       "| 751 | CH       | 229      | 7        | 1.69     | 1.69     | 0        | 0.20     | 0        | 1        | 0.680000 | 1.49     | 1.69     | -0.20    | Yes      | 0.118343 | 0        | 0.00     | 0        | \n",
       "| 613 | CH       | 259      | 7        | 1.86     | 2.18     | 0        | 0.00     | 0        | 0        | 0.363840 | 2.18     | 1.86     |  0.32    | Yes      | 0.000000 | 0        | 0.32     | 0        | \n",
       "| 180 | CH       | 246      | 4        | 1.99     | 2.23     | 0        | 0.00     | 0        | 0        | 0.994235 | 2.23     | 1.99     |  0.24    | No       | 0.000000 | 0        | 0.24     | 4        | \n",
       "| 1007 | CH       | 272      | 3        | 1.99     | 2.09     | 0        | 0.40     | 0        | 0        | 0.067109 | 1.69     | 1.99     | -0.30    | No       | 0.191388 | 0        | 0.10     | 3        | \n",
       "| 1005 | MM       | 238      | 3        | 1.79     | 2.09     | 0        | 0.00     | 0        | 0        | 0.104858 | 2.09     | 1.79     |  0.30    | No       | 0.000000 | 0        | 0.30     | 3        | \n",
       "\n",
       "\n"
      ],
      "text/plain": [
       "     Purchase WeekofPurchase StoreID PriceCH PriceMM DiscCH DiscMM SpecialCH\n",
       "198  CH       275            7       1.99    2.13    0      0.54   1        \n",
       "751  CH       229            7       1.69    1.69    0      0.20   0        \n",
       "613  CH       259            7       1.86    2.18    0      0.00   0        \n",
       "180  CH       246            4       1.99    2.23    0      0.00   0        \n",
       "1007 CH       272            3       1.99    2.09    0      0.40   0        \n",
       "1005 MM       238            3       1.79    2.09    0      0.00   0        \n",
       "     SpecialMM LoyalCH  SalePriceMM SalePriceCH PriceDiff Store7 PctDiscMM\n",
       "198  0         0.999896 1.59        1.99        -0.40     Yes    0.253521 \n",
       "751  1         0.680000 1.49        1.69        -0.20     Yes    0.118343 \n",
       "613  0         0.363840 2.18        1.86         0.32     Yes    0.000000 \n",
       "180  0         0.994235 2.23        1.99         0.24     No     0.000000 \n",
       "1007 0         0.067109 1.69        1.99        -0.30     No     0.191388 \n",
       "1005 0         0.104858 2.09        1.79         0.30     No     0.000000 \n",
       "     PctDiscCH ListPriceDiff STORE\n",
       "198  0         0.14          0    \n",
       "751  0         0.00          0    \n",
       "613  0         0.32          0    \n",
       "180  0         0.24          4    \n",
       "1007 0         0.10          3    \n",
       "1005 0         0.30          3    "
      ]
     },
     "metadata": {},
     "output_type": "display_data"
    }
   ],
   "source": [
    "training_set <- OJ[train,]\n",
    "head(training_set)"
   ]
  },
  {
   "cell_type": "code",
   "execution_count": 4,
   "metadata": {},
   "outputs": [
    {
     "data": {
      "text/html": [
       "270"
      ],
      "text/latex": [
       "270"
      ],
      "text/markdown": [
       "270"
      ],
      "text/plain": [
       "[1] 270"
      ]
     },
     "metadata": {},
     "output_type": "display_data"
    }
   ],
   "source": [
    "test_set <- OJ[-train,]\n",
    "nrow(test_set)"
   ]
  },
  {
   "cell_type": "code",
   "execution_count": 5,
   "metadata": {
    "scrolled": true
   },
   "outputs": [
    {
     "data": {
      "text/html": [
       "<table>\n",
       "<thead><tr><th></th><th scope=col>Purchase</th><th scope=col>WeekofPurchase</th><th scope=col>StoreID</th><th scope=col>PriceCH</th><th scope=col>PriceMM</th><th scope=col>DiscCH</th><th scope=col>DiscMM</th><th scope=col>SpecialCH</th><th scope=col>SpecialMM</th><th scope=col>LoyalCH</th><th scope=col>SalePriceMM</th><th scope=col>SalePriceCH</th><th scope=col>PriceDiff</th><th scope=col>Store7</th><th scope=col>PctDiscMM</th><th scope=col>PctDiscCH</th><th scope=col>ListPriceDiff</th><th scope=col>STORE</th></tr></thead>\n",
       "<tbody>\n",
       "\t<tr><th scope=row>4</th><td>MM      </td><td>227     </td><td>1       </td><td>1.69    </td><td>1.69    </td><td>0       </td><td>0.0     </td><td>0       </td><td>0       </td><td>0.400000</td><td>1.69    </td><td>1.69    </td><td> 0.00   </td><td>No      </td><td>0.000000</td><td>0       </td><td>0.00    </td><td>1       </td></tr>\n",
       "\t<tr><th scope=row>5</th><td>CH      </td><td>228     </td><td>7       </td><td>1.69    </td><td>1.69    </td><td>0       </td><td>0.0     </td><td>0       </td><td>0       </td><td>0.956535</td><td>1.69    </td><td>1.69    </td><td> 0.00   </td><td>Yes     </td><td>0.000000</td><td>0       </td><td>0.00    </td><td>0       </td></tr>\n",
       "\t<tr><th scope=row>6</th><td>CH      </td><td>230     </td><td>7       </td><td>1.69    </td><td>1.99    </td><td>0       </td><td>0.0     </td><td>0       </td><td>1       </td><td>0.965228</td><td>1.99    </td><td>1.69    </td><td> 0.30   </td><td>Yes     </td><td>0.000000</td><td>0       </td><td>0.30    </td><td>0       </td></tr>\n",
       "\t<tr><th scope=row>7</th><td>CH      </td><td>232     </td><td>7       </td><td>1.69    </td><td>1.99    </td><td>0       </td><td>0.4     </td><td>1       </td><td>1       </td><td>0.972182</td><td>1.59    </td><td>1.69    </td><td>-0.10   </td><td>Yes     </td><td>0.201005</td><td>0       </td><td>0.30    </td><td>0       </td></tr>\n",
       "\t<tr><th scope=row>19</th><td>MM      </td><td>269     </td><td>2       </td><td>1.86    </td><td>2.18    </td><td>0       </td><td>0.0     </td><td>0       </td><td>0       </td><td>0.320000</td><td>2.18    </td><td>1.86    </td><td> 0.32   </td><td>No      </td><td>0.000000</td><td>0       </td><td>0.32    </td><td>2       </td></tr>\n",
       "\t<tr><th scope=row>23</th><td>CH      </td><td>259     </td><td>7       </td><td>1.86    </td><td>2.18    </td><td>0       </td><td>0.0     </td><td>0       </td><td>0       </td><td>0.744000</td><td>2.18    </td><td>1.86    </td><td> 0.32   </td><td>Yes     </td><td>0.000000</td><td>0       </td><td>0.32    </td><td>0       </td></tr>\n",
       "</tbody>\n",
       "</table>\n"
      ],
      "text/latex": [
       "\\begin{tabular}{r|llllllllllllllllll}\n",
       "  & Purchase & WeekofPurchase & StoreID & PriceCH & PriceMM & DiscCH & DiscMM & SpecialCH & SpecialMM & LoyalCH & SalePriceMM & SalePriceCH & PriceDiff & Store7 & PctDiscMM & PctDiscCH & ListPriceDiff & STORE\\\\\n",
       "\\hline\n",
       "\t4 & MM       & 227      & 1        & 1.69     & 1.69     & 0        & 0.0      & 0        & 0        & 0.400000 & 1.69     & 1.69     &  0.00    & No       & 0.000000 & 0        & 0.00     & 1       \\\\\n",
       "\t5 & CH       & 228      & 7        & 1.69     & 1.69     & 0        & 0.0      & 0        & 0        & 0.956535 & 1.69     & 1.69     &  0.00    & Yes      & 0.000000 & 0        & 0.00     & 0       \\\\\n",
       "\t6 & CH       & 230      & 7        & 1.69     & 1.99     & 0        & 0.0      & 0        & 1        & 0.965228 & 1.99     & 1.69     &  0.30    & Yes      & 0.000000 & 0        & 0.30     & 0       \\\\\n",
       "\t7 & CH       & 232      & 7        & 1.69     & 1.99     & 0        & 0.4      & 1        & 1        & 0.972182 & 1.59     & 1.69     & -0.10    & Yes      & 0.201005 & 0        & 0.30     & 0       \\\\\n",
       "\t19 & MM       & 269      & 2        & 1.86     & 2.18     & 0        & 0.0      & 0        & 0        & 0.320000 & 2.18     & 1.86     &  0.32    & No       & 0.000000 & 0        & 0.32     & 2       \\\\\n",
       "\t23 & CH       & 259      & 7        & 1.86     & 2.18     & 0        & 0.0      & 0        & 0        & 0.744000 & 2.18     & 1.86     &  0.32    & Yes      & 0.000000 & 0        & 0.32     & 0       \\\\\n",
       "\\end{tabular}\n"
      ],
      "text/markdown": [
       "\n",
       "| <!--/--> | Purchase | WeekofPurchase | StoreID | PriceCH | PriceMM | DiscCH | DiscMM | SpecialCH | SpecialMM | LoyalCH | SalePriceMM | SalePriceCH | PriceDiff | Store7 | PctDiscMM | PctDiscCH | ListPriceDiff | STORE | \n",
       "|---|---|---|---|---|---|\n",
       "| 4 | MM       | 227      | 1        | 1.69     | 1.69     | 0        | 0.0      | 0        | 0        | 0.400000 | 1.69     | 1.69     |  0.00    | No       | 0.000000 | 0        | 0.00     | 1        | \n",
       "| 5 | CH       | 228      | 7        | 1.69     | 1.69     | 0        | 0.0      | 0        | 0        | 0.956535 | 1.69     | 1.69     |  0.00    | Yes      | 0.000000 | 0        | 0.00     | 0        | \n",
       "| 6 | CH       | 230      | 7        | 1.69     | 1.99     | 0        | 0.0      | 0        | 1        | 0.965228 | 1.99     | 1.69     |  0.30    | Yes      | 0.000000 | 0        | 0.30     | 0        | \n",
       "| 7 | CH       | 232      | 7        | 1.69     | 1.99     | 0        | 0.4      | 1        | 1        | 0.972182 | 1.59     | 1.69     | -0.10    | Yes      | 0.201005 | 0        | 0.30     | 0        | \n",
       "| 19 | MM       | 269      | 2        | 1.86     | 2.18     | 0        | 0.0      | 0        | 0        | 0.320000 | 2.18     | 1.86     |  0.32    | No       | 0.000000 | 0        | 0.32     | 2        | \n",
       "| 23 | CH       | 259      | 7        | 1.86     | 2.18     | 0        | 0.0      | 0        | 0        | 0.744000 | 2.18     | 1.86     |  0.32    | Yes      | 0.000000 | 0        | 0.32     | 0        | \n",
       "\n",
       "\n"
      ],
      "text/plain": [
       "   Purchase WeekofPurchase StoreID PriceCH PriceMM DiscCH DiscMM SpecialCH\n",
       "4  MM       227            1       1.69    1.69    0      0.0    0        \n",
       "5  CH       228            7       1.69    1.69    0      0.0    0        \n",
       "6  CH       230            7       1.69    1.99    0      0.0    0        \n",
       "7  CH       232            7       1.69    1.99    0      0.4    1        \n",
       "19 MM       269            2       1.86    2.18    0      0.0    0        \n",
       "23 CH       259            7       1.86    2.18    0      0.0    0        \n",
       "   SpecialMM LoyalCH  SalePriceMM SalePriceCH PriceDiff Store7 PctDiscMM\n",
       "4  0         0.400000 1.69        1.69         0.00     No     0.000000 \n",
       "5  0         0.956535 1.69        1.69         0.00     Yes    0.000000 \n",
       "6  1         0.965228 1.99        1.69         0.30     Yes    0.000000 \n",
       "7  1         0.972182 1.59        1.69        -0.10     Yes    0.201005 \n",
       "19 0         0.320000 2.18        1.86         0.32     No     0.000000 \n",
       "23 0         0.744000 2.18        1.86         0.32     Yes    0.000000 \n",
       "   PctDiscCH ListPriceDiff STORE\n",
       "4  0         0.00          1    \n",
       "5  0         0.00          0    \n",
       "6  0         0.30          0    \n",
       "7  0         0.30          0    \n",
       "19 0         0.32          2    \n",
       "23 0         0.32          0    "
      ]
     },
     "metadata": {},
     "output_type": "display_data"
    }
   ],
   "source": [
    "head(test_set)"
   ]
  },
  {
   "cell_type": "markdown",
   "metadata": {},
   "source": [
    "#### b) Fit a tree to the training data, with Purchase as the response and the other variables as predictors. Use the summary() function to produce summary statistics about the tree, and describe the results obtained. What is the training error rate? How many terminal nodes does the tree have?\n"
   ]
  },
  {
   "cell_type": "code",
   "execution_count": 6,
   "metadata": {},
   "outputs": [
    {
     "data": {
      "text/plain": [
       "\n",
       "Classification tree:\n",
       "tree(formula = Purchase ~ ., data = OJ, subset = train)\n",
       "Variables actually used in tree construction:\n",
       "[1] \"LoyalCH\"       \"PriceDiff\"     \"ListPriceDiff\" \"PctDiscMM\"    \n",
       "Number of terminal nodes:  8 \n",
       "Residual mean deviance:  0.7659 = 606.6 / 792 \n",
       "Misclassification error rate: 0.1675 = 134 / 800 "
      ]
     },
     "metadata": {},
     "output_type": "display_data"
    }
   ],
   "source": [
    "purchase_tree <- tree(Purchase~.,data=OJ,subset=train)\n",
    "summary(purchase_tree)"
   ]
  },
  {
   "cell_type": "markdown",
   "metadata": {},
   "source": [
    "#### Answer:\n",
    "The classification tree uses 4 variables - LoyalCH, PriceDiff, ListPriceDiff, PctDiscMM <br>\n",
    "Training error rate = 0.1675 (16.75%) <br>\n",
    "Terminal nodes = 8 <br>"
   ]
  },
  {
   "cell_type": "markdown",
   "metadata": {},
   "source": [
    "#### c) Create a plot of the tree, and interpret the results."
   ]
  },
  {
   "cell_type": "code",
   "execution_count": 7,
   "metadata": {},
   "outputs": [
    {
     "data": {
      "image/png": "[encoded data removed]",
      "text/plain": [
       "plot without title"
      ]
     },
     "metadata": {},
     "output_type": "display_data"
    }
   ],
   "source": [
    "plot(purchase_tree)\n",
    "text(purchase_tree, pretty=0)"
   ]
  },
  {
   "cell_type": "markdown",
   "metadata": {},
   "source": [
    "#### Answer:\n",
    "To interpret decision trees, one must follow a series of decisions to arrive at answer. \n",
    "For example, if I have a new observation, then I need to make decisions from the top to bottom to understand if a customer will buy Citrus Hill or Minute Maid Orange Juice.\n",
    "For example, if the customer is a crazy Citrus Hill fan (LoyalCH > 0.7451), they are more likely to purchase Citrus Hill orange juice. However if customer is moderate Citrus Hill fan (say, LoyalCH = 0.6) and list price difference between the two brands is less (ListPriceDiff < 0.235) and percent discount for Minute Maid is high (PctDiscMM > 0.1961), the customer is more likely to buy Minute Maid."
   ]
  },
  {
   "cell_type": "markdown",
   "metadata": {},
   "source": [
    "#### d) Predict the response on the test data, and produce a confusion matrix comparing the test labels to the predicted test labels. What is the test error rate?"
   ]
  },
  {
   "cell_type": "code",
   "execution_count": 8,
   "metadata": {},
   "outputs": [
    {
     "data": {
      "text/html": [
       "0.148148148148148"
      ],
      "text/latex": [
       "0.148148148148148"
      ],
      "text/markdown": [
       "0.148148148148148"
      ],
      "text/plain": [
       "[1] 0.1481481"
      ]
     },
     "metadata": {},
     "output_type": "display_data"
    }
   ],
   "source": [
    "tree_pred <- predict(purchase_tree, test_set, type=\"class\")\n",
    "error_rate <- 1 - mean(tree_pred == test_set$Purchase)\n",
    "error_rate"
   ]
  },
  {
   "cell_type": "code",
   "execution_count": 9,
   "metadata": {},
   "outputs": [
    {
     "data": {
      "text/plain": [
       "         \n",
       "tree_pred  CH  MM\n",
       "       CH 161  28\n",
       "       MM  12  69"
      ]
     },
     "metadata": {},
     "output_type": "display_data"
    }
   ],
   "source": [
    "confusion_matrix <- table(tree_pred, test_set$Purchase)\n",
    "confusion_matrix"
   ]
  },
  {
   "cell_type": "code",
   "execution_count": 10,
   "metadata": {
    "scrolled": true
   },
   "outputs": [
    {
     "data": {
      "text/html": [
       "0.148148148148148"
      ],
      "text/latex": [
       "0.148148148148148"
      ],
      "text/markdown": [
       "0.148148148148148"
      ],
      "text/plain": [
       "[1] 0.1481481"
      ]
     },
     "metadata": {},
     "output_type": "display_data"
    },
    {
     "data": {
      "text/html": [
       "TRUE"
      ],
      "text/latex": [
       "TRUE"
      ],
      "text/markdown": [
       "TRUE"
      ],
      "text/plain": [
       "[1] TRUE"
      ]
     },
     "metadata": {},
     "output_type": "display_data"
    }
   ],
   "source": [
    "error_rate_from_confusion_matrix = (confusion_matrix['CH','MM'] + confusion_matrix['MM','CH'])/ nrow(test_set) \n",
    "error_rate_from_confusion_matrix\n",
    "error_rate == error_rate_from_confusion_matrix"
   ]
  },
  {
   "cell_type": "markdown",
   "metadata": {},
   "source": [
    "#### Answer:\n",
    "Test error rate = 0.1481 (14.81%)"
   ]
  },
  {
   "cell_type": "markdown",
   "metadata": {},
   "source": [
    "#### e) Create a pruned tree with four terminal nodes. "
   ]
  },
  {
   "cell_type": "code",
   "execution_count": 11,
   "metadata": {},
   "outputs": [
    {
     "data": {
      "image/png": "[encoded data removed]",
      "text/plain": [
       "plot without title"
      ]
     },
     "metadata": {},
     "output_type": "display_data"
    }
   ],
   "source": [
    "pruned_tree <- prune.misclass(purchase_tree, best=4)\n",
    "plot(pruned_tree)\n",
    "text(pruned_tree, pretty=0)"
   ]
  },
  {
   "cell_type": "markdown",
   "metadata": {},
   "source": [
    "#### f) Compare the test error rates between the pruned and unpruned trees. Which is higher?"
   ]
  },
  {
   "cell_type": "code",
   "execution_count": 12,
   "metadata": {},
   "outputs": [
    {
     "data": {
      "text/plain": [
       "              \n",
       "pruned_predict  CH  MM\n",
       "            CH 162  31\n",
       "            MM  11  66"
      ]
     },
     "metadata": {},
     "output_type": "display_data"
    },
    {
     "data": {
      "text/html": [
       "0.155555555555556"
      ],
      "text/latex": [
       "0.155555555555556"
      ],
      "text/markdown": [
       "0.155555555555556"
      ],
      "text/plain": [
       "[1] 0.1555556"
      ]
     },
     "metadata": {},
     "output_type": "display_data"
    }
   ],
   "source": [
    "pruned_predict <- predict(pruned_tree, test_set, type=\"class\")\n",
    "table(pruned_predict, test_set$Purchase)\n",
    "pruned_error_rate <- 1 - mean(pruned_predict == test_set$Purchase)\n",
    "pruned_error_rate"
   ]
  },
  {
   "cell_type": "markdown",
   "metadata": {},
   "source": [
    "#### Answer:\n",
    "The test error rate of the pruned tree is higher at 15.56%, as compared to the unpruned tree's error rate of 14.81%.\n",
    "To further verify, if pruning actually produces worse results, we plot the deviance against the tree size after cross validation. "
   ]
  },
  {
   "cell_type": "code",
   "execution_count": 13,
   "metadata": {},
   "outputs": [
    {
     "data": {
      "image/png": "[encoded data removed]",
      "text/plain": [
       "plot without title"
      ]
     },
     "metadata": {},
     "output_type": "display_data"
    }
   ],
   "source": [
    "set.seed(5)\n",
    "cv_tree <- cv.tree(purchase_tree, FUN=prune.misclass)\n",
    "plot(cv_tree$size, cv_tree$dev, type = \"b\")"
   ]
  },
  {
   "cell_type": "markdown",
   "metadata": {},
   "source": [
    "This shows that the deviance for tree size of 4 is actually higher than for tree size of 8. Therefore, it makes sense that the error rate for tree size of 4 is higher."
   ]
  }
 ],
 "metadata": {
  "kernelspec": {
   "display_name": "R",
   "language": "R",
   "name": "ir"
  },
  "language_info": {
   "codemirror_mode": "r",
   "file_extension": ".r",
   "mimetype": "text/x-r-source",
   "name": "R",
   "pygments_lexer": "r",
   "version": "3.4.2"
  }
 },
 "nbformat": 4,
 "nbformat_minor": 2
}
